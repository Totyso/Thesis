{
 "cells": [
  {
   "cell_type": "code",
   "execution_count": 73,
   "metadata": {},
   "outputs": [],
   "source": [
    "import numpy as np\n",
    "import random\n",
    "from scipy.stats import norm"
   ]
  },
  {
   "cell_type": "code",
   "execution_count": 241,
   "metadata": {},
   "outputs": [],
   "source": [
    "volatility_annual = 0.25\n",
    "volatility_daily = volatility_annual/np.sqrt(250)\n",
    "current_return = 0.01\n",
    "alpha = 0.06\n",
    "Lambda = 0.01\n",
    "beta = 0.9\n",
    "omega = (volatility_daily ** 2) * (1 - alpha - beta) - (Lambda ** 2) * alpha\n",
    "significance_level = [0.1, 1, 5, 10]\n",
    "n = 10000"
   ]
  },
  {
   "cell_type": "code",
   "execution_count": 242,
   "metadata": {},
   "outputs": [],
   "source": [
    "sim_1 = np.empty(n)\n",
    "for i in range(n):\n",
    "    sim_1[i] = norm.ppf(random.uniform(0,1))\n",
    "sim_2 = np.empty(n)\n",
    "for i in range(n):\n",
    "    sim_2[i] = norm.ppf(random.uniform(0,1))\n",
    "sim_3 = np.empty(n)\n",
    "for i in range(n):\n",
    "    sim_3[i] = norm.ppf(random.uniform(0,1))\n",
    "sim_4 = np.empty(n)\n",
    "for i in range(n):\n",
    "    sim_4[i] = norm.ppf(random.uniform(0,1))\n",
    "sim_5 = np.empty(n)\n",
    "for i in range(n):\n",
    "    sim_5[i] = norm.ppf(random.uniform(0,1))\n",
    "sim_6 = np.empty(n)\n",
    "for i in range(n):\n",
    "    sim_6[i] = norm.ppf(random.uniform(0,1))\n",
    "sim_7 = np.empty(n)\n",
    "for i in range(n):\n",
    "    sim_7[i] = norm.ppf(random.uniform(0,1))\n",
    "sim_8 = np.empty(n)\n",
    "for i in range(n):\n",
    "    sim_8[i] = norm.ppf(random.uniform(0,1))\n",
    "sim_9 = np.empty(n)\n",
    "for i in range(n):\n",
    "    sim_9[i] = norm.ppf(random.uniform(0,1))\n",
    "sim_10 = np.empty(n)\n",
    "for i in range(n):\n",
    "    sim_10[i] = norm.ppf(random.uniform(0,1))"
   ]
  },
  {
   "cell_type": "code",
   "execution_count": 243,
   "metadata": {},
   "outputs": [],
   "source": [
    "sim_1_constant_vol = np.empty(n)\n",
    "for i in range(n):\n",
    "    sim_1_constant_vol[i] = sim_1[i] * volatility_daily\n",
    "sim_2_constant_vol = np.empty(n)\n",
    "for i in range(n):\n",
    "    sim_2_constant_vol[i] = sim_2[i] * volatility_daily\n",
    "sim_3_constant_vol = np.empty(n)\n",
    "for i in range(n):\n",
    "    sim_3_constant_vol[i] = sim_3[i] * volatility_daily\n",
    "sim_4_constant_vol = np.empty(n)\n",
    "for i in range(n):\n",
    "    sim_4_constant_vol[i] = sim_4[i] * volatility_daily\n",
    "sim_5_constant_vol = np.empty(n)\n",
    "for i in range(n):\n",
    "    sim_5_constant_vol[i] = sim_5[i] * volatility_daily\n",
    "sim_6_constant_vol = np.empty(n)\n",
    "for i in range(n):\n",
    "    sim_6_constant_vol[i] = sim_6[i] * volatility_daily\n",
    "sim_7_constant_vol = np.empty(n)\n",
    "for i in range(n):\n",
    "    sim_7_constant_vol[i] = sim_7[i] * volatility_daily\n",
    "sim_8_constant_vol = np.empty(n)\n",
    "for i in range(n):\n",
    "    sim_8_constant_vol[i] = sim_8[i] * volatility_daily\n",
    "sim_9_constant_vol = np.empty(n)\n",
    "for i in range(n):\n",
    "    sim_9_constant_vol[i] = sim_9[i] * volatility_daily\n",
    "sim_10_constant_vol = np.empty(n)\n",
    "for i in range(n):\n",
    "    sim_10_constant_vol[i] = sim_10[i] * volatility_daily"
   ]
  },
  {
   "cell_type": "code",
   "execution_count": 244,
   "metadata": {},
   "outputs": [],
   "source": [
    "ten_day_log_return_constant_vol = np.empty(n)\n",
    "for i in range(n):\n",
    "    ten_day_log_return_constant_vol[i] = sim_1_constant_vol[i] + sim_2_constant_vol[i] + sim_3_constant_vol[i] + sim_4_constant_vol[i] + sim_5_constant_vol[i] + sim_6_constant_vol[i] + sim_7_constant_vol[i] + sim_8_constant_vol[i] + sim_9_constant_vol[i] + sim_10_constant_vol[i] "
   ]
  },
  {
   "cell_type": "code",
   "execution_count": 245,
   "metadata": {},
   "outputs": [],
   "source": [
    "sim_1_GARCH_pos = np.empty(n)\n",
    "for i in range(n):\n",
    "    sim_1_GARCH_pos[i] = omega + (alpha * ((current_return - Lambda) ** 2)) + beta * (volatility_daily ** 2)"
   ]
  },
  {
   "cell_type": "code",
   "execution_count": 246,
   "metadata": {},
   "outputs": [],
   "source": [
    "sim_1_GARCH_vol_pos = np.empty(n)\n",
    "for i in range(n):\n",
    "    sim_1_GARCH_vol_pos[i] = sim_1[i] * np.sqrt(sim_1_GARCH_pos[i])"
   ]
  },
  {
   "cell_type": "code",
   "execution_count": 247,
   "metadata": {},
   "outputs": [],
   "source": [
    "sim_2_GARCH_pos = np.empty(n)\n",
    "for i in range(n):\n",
    "    sim_2_GARCH_pos[i] = omega + (alpha * ((sim_1_GARCH_vol_pos[i] - Lambda) ** 2)) + beta * sim_1_GARCH_pos[i]"
   ]
  },
  {
   "cell_type": "code",
   "execution_count": 248,
   "metadata": {},
   "outputs": [],
   "source": [
    "sim_2_GARCH_vol_pos = np.empty(n)\n",
    "for i in range(n):\n",
    "    sim_2_GARCH_vol_pos[i] = sim_2[i] * np.sqrt(sim_2_GARCH_pos[i])"
   ]
  },
  {
   "cell_type": "code",
   "execution_count": 249,
   "metadata": {},
   "outputs": [],
   "source": [
    "sim_3_GARCH_pos = np.empty(n)\n",
    "for i in range(n):\n",
    "    sim_3_GARCH_pos[i] = omega + (alpha * ((sim_2_GARCH_vol_pos[i] - Lambda) ** 2)) + beta * sim_2_GARCH_pos[i]"
   ]
  },
  {
   "cell_type": "code",
   "execution_count": 250,
   "metadata": {},
   "outputs": [],
   "source": [
    "sim_3_GARCH_vol_pos = np.empty(n)\n",
    "for i in range(n):\n",
    "    sim_3_GARCH_vol_pos[i] = sim_3[i] * np.sqrt(sim_3_GARCH_pos[i])"
   ]
  },
  {
   "cell_type": "code",
   "execution_count": 251,
   "metadata": {},
   "outputs": [],
   "source": [
    "sim_4_GARCH_pos = np.empty(n)\n",
    "for i in range(n):\n",
    "    sim_4_GARCH_pos[i] = omega + (alpha * ((sim_3_GARCH_vol_pos[i] - Lambda) ** 2)) + beta * sim_3_GARCH_pos[i]"
   ]
  },
  {
   "cell_type": "code",
   "execution_count": 252,
   "metadata": {},
   "outputs": [],
   "source": [
    "sim_4_GARCH_vol_pos = np.empty(n)\n",
    "for i in range(n):\n",
    "    sim_4_GARCH_vol_pos[i] = sim_4[i] * np.sqrt(sim_4_GARCH_pos[i])"
   ]
  },
  {
   "cell_type": "code",
   "execution_count": 253,
   "metadata": {},
   "outputs": [],
   "source": [
    "sim_5_GARCH_pos = np.empty(n)\n",
    "for i in range(n):\n",
    "    sim_5_GARCH_pos[i] = omega + (alpha * ((sim_4_GARCH_vol_pos[i] - Lambda) ** 2)) + beta * sim_4_GARCH_pos[i]"
   ]
  },
  {
   "cell_type": "code",
   "execution_count": 254,
   "metadata": {},
   "outputs": [],
   "source": [
    "sim_5_GARCH_vol_pos = np.empty(n)\n",
    "for i in range(n):\n",
    "    sim_5_GARCH_vol_pos[i] = sim_5[i] * np.sqrt(sim_5_GARCH_pos[i])"
   ]
  },
  {
   "cell_type": "code",
   "execution_count": 255,
   "metadata": {},
   "outputs": [],
   "source": [
    "sim_6_GARCH_pos = np.empty(n)\n",
    "for i in range(n):\n",
    "    sim_6_GARCH_pos[i] = omega + (alpha * ((sim_5_GARCH_vol_pos[i] - Lambda) ** 2)) + beta * sim_5_GARCH_pos[i]"
   ]
  },
  {
   "cell_type": "code",
   "execution_count": 256,
   "metadata": {},
   "outputs": [],
   "source": [
    "sim_6_GARCH_vol_pos = np.empty(n)\n",
    "for i in range(n):\n",
    "    sim_6_GARCH_vol_pos[i] = sim_6[i] * np.sqrt(sim_6_GARCH_pos[i])"
   ]
  },
  {
   "cell_type": "code",
   "execution_count": 257,
   "metadata": {},
   "outputs": [],
   "source": [
    "sim_7_GARCH_pos = np.empty(n)\n",
    "for i in range(n):\n",
    "    sim_7_GARCH_pos[i] = omega + (alpha * ((sim_6_GARCH_vol_pos[i] - Lambda) ** 2)) + beta * sim_6_GARCH_pos[i]"
   ]
  },
  {
   "cell_type": "code",
   "execution_count": 258,
   "metadata": {},
   "outputs": [],
   "source": [
    "sim_7_GARCH_vol_pos = np.empty(n)\n",
    "for i in range(n):\n",
    "    sim_7_GARCH_vol_pos[i] = sim_7[i] * np.sqrt(sim_7_GARCH_pos[i])"
   ]
  },
  {
   "cell_type": "code",
   "execution_count": 259,
   "metadata": {},
   "outputs": [],
   "source": [
    "sim_8_GARCH_pos = np.empty(n)\n",
    "for i in range(n):\n",
    "    sim_8_GARCH_pos[i] = omega + (alpha * ((sim_7_GARCH_vol_pos[i] - Lambda) ** 2)) + beta * sim_7_GARCH_pos[i]"
   ]
  },
  {
   "cell_type": "code",
   "execution_count": 260,
   "metadata": {},
   "outputs": [],
   "source": [
    "sim_8_GARCH_vol_pos = np.empty(n)\n",
    "for i in range(n):\n",
    "    sim_8_GARCH_vol_pos[i] = sim_8[i] * np.sqrt(sim_8_GARCH_pos[i])"
   ]
  },
  {
   "cell_type": "code",
   "execution_count": 261,
   "metadata": {},
   "outputs": [],
   "source": [
    "sim_9_GARCH_pos = np.empty(n)\n",
    "for i in range(n):\n",
    "    sim_9_GARCH_pos[i] = omega + (alpha * ((sim_8_GARCH_vol_pos[i] - Lambda) ** 2)) + beta * sim_8_GARCH_pos[i]"
   ]
  },
  {
   "cell_type": "code",
   "execution_count": 262,
   "metadata": {},
   "outputs": [],
   "source": [
    "sim_9_GARCH_vol_pos = np.empty(n)\n",
    "for i in range(n):\n",
    "    sim_9_GARCH_vol_pos[i] = sim_9[i] * np.sqrt(sim_9_GARCH_pos[i])"
   ]
  },
  {
   "cell_type": "code",
   "execution_count": 263,
   "metadata": {},
   "outputs": [],
   "source": [
    "sim_10_GARCH_pos = np.empty(n)\n",
    "for i in range(n):\n",
    "    sim_10_GARCH_pos[i] = omega + (alpha * ((sim_9_GARCH_vol_pos[i] - Lambda) ** 2)) + beta * sim_9_GARCH_pos[i]"
   ]
  },
  {
   "cell_type": "code",
   "execution_count": 264,
   "metadata": {},
   "outputs": [],
   "source": [
    "sim_10_GARCH_vol_pos = np.empty(n)\n",
    "for i in range(n):\n",
    "    sim_10_GARCH_vol_pos[i] = sim_10[i] * np.sqrt(sim_10_GARCH_pos[i])"
   ]
  },
  {
   "cell_type": "code",
   "execution_count": 265,
   "metadata": {},
   "outputs": [],
   "source": [
    "ten_day_log_return_GARCH_vol_pos = np.empty(n)\n",
    "for i in range(n):\n",
    "    ten_day_log_return_GARCH_vol_pos[i] = sim_1_GARCH_vol_pos[i] + sim_2_GARCH_vol_pos[i] + sim_3_GARCH_vol_pos[i] + sim_4_GARCH_vol_pos[i] + sim_5_GARCH_vol_pos[i] + sim_6_GARCH_vol_pos[i] + sim_7_GARCH_vol_pos[i] + sim_8_GARCH_vol_pos[i] + sim_9_GARCH_vol_pos[i] + sim_10_GARCH_vol_pos[i] "
   ]
  },
  {
   "cell_type": "code",
   "execution_count": 266,
   "metadata": {},
   "outputs": [],
   "source": [
    "sim_1_GARCH_neg = np.empty(n)\n",
    "for i in range(n):\n",
    "    sim_1_GARCH_neg[i] = omega + (alpha * ((-current_return - Lambda) ** 2)) + beta * (volatility_daily ** 2)"
   ]
  },
  {
   "cell_type": "code",
   "execution_count": 267,
   "metadata": {},
   "outputs": [],
   "source": [
    "sim_1_GARCH_vol_neg = np.empty(n)\n",
    "for i in range(n):\n",
    "    sim_1_GARCH_vol_neg[i] = sim_1[i] * np.sqrt(sim_1_GARCH_neg[i])"
   ]
  },
  {
   "cell_type": "code",
   "execution_count": 268,
   "metadata": {},
   "outputs": [],
   "source": [
    "sim_2_GARCH_neg = np.empty(n)\n",
    "for i in range(n):\n",
    "    sim_2_GARCH_neg[i] = omega + (alpha * ((sim_1_GARCH_vol_neg[i] - Lambda) ** 2)) + beta * sim_1_GARCH_neg[i]"
   ]
  },
  {
   "cell_type": "code",
   "execution_count": 269,
   "metadata": {},
   "outputs": [],
   "source": [
    "sim_2_GARCH_vol_neg = np.empty(n)\n",
    "for i in range(n):\n",
    "    sim_2_GARCH_vol_neg[i] = sim_2[i] * np.sqrt(sim_2_GARCH_neg[i])"
   ]
  },
  {
   "cell_type": "code",
   "execution_count": 270,
   "metadata": {},
   "outputs": [],
   "source": [
    "sim_3_GARCH_neg = np.empty(n)\n",
    "for i in range(n):\n",
    "    sim_3_GARCH_neg[i] = omega + (alpha * ((sim_2_GARCH_vol_neg[i] - Lambda) ** 2)) + beta * sim_2_GARCH_neg[i]"
   ]
  },
  {
   "cell_type": "code",
   "execution_count": 271,
   "metadata": {},
   "outputs": [],
   "source": [
    "sim_3_GARCH_vol_neg = np.empty(n)\n",
    "for i in range(n):\n",
    "    sim_3_GARCH_vol_neg[i] = sim_3[i] * np.sqrt(sim_3_GARCH_neg[i])"
   ]
  },
  {
   "cell_type": "code",
   "execution_count": 272,
   "metadata": {},
   "outputs": [],
   "source": [
    "sim_4_GARCH_neg = np.empty(n)\n",
    "for i in range(n):\n",
    "    sim_4_GARCH_neg[i] = omega + (alpha * ((sim_3_GARCH_vol_neg[i] - Lambda) ** 2)) + beta * sim_3_GARCH_neg[i]"
   ]
  },
  {
   "cell_type": "code",
   "execution_count": 273,
   "metadata": {},
   "outputs": [],
   "source": [
    "sim_4_GARCH_vol_neg = np.empty(n)\n",
    "for i in range(n):\n",
    "    sim_4_GARCH_vol_neg[i] = sim_4[i] * np.sqrt(sim_4_GARCH_neg[i])"
   ]
  },
  {
   "cell_type": "code",
   "execution_count": 274,
   "metadata": {},
   "outputs": [],
   "source": [
    "sim_5_GARCH_neg = np.empty(n)\n",
    "for i in range(n):\n",
    "    sim_5_GARCH_neg[i] = omega + (alpha * ((sim_4_GARCH_vol_neg[i] - Lambda) ** 2)) + beta * sim_4_GARCH_neg[i]"
   ]
  },
  {
   "cell_type": "code",
   "execution_count": 275,
   "metadata": {},
   "outputs": [],
   "source": [
    "sim_5_GARCH_vol_neg = np.empty(n)\n",
    "for i in range(n):\n",
    "    sim_5_GARCH_vol_neg[i] = sim_5[i] * np.sqrt(sim_5_GARCH_neg[i])"
   ]
  },
  {
   "cell_type": "code",
   "execution_count": 276,
   "metadata": {},
   "outputs": [],
   "source": [
    "sim_6_GARCH_neg = np.empty(n)\n",
    "for i in range(n):\n",
    "    sim_6_GARCH_neg[i] = omega + (alpha * ((sim_5_GARCH_vol_neg[i] - Lambda) ** 2)) + beta * sim_5_GARCH_neg[i]"
   ]
  },
  {
   "cell_type": "code",
   "execution_count": 277,
   "metadata": {},
   "outputs": [],
   "source": [
    "sim_6_GARCH_vol_neg = np.empty(n)\n",
    "for i in range(n):\n",
    "    sim_6_GARCH_vol_neg[i] = sim_6[i] * np.sqrt(sim_6_GARCH_neg[i])"
   ]
  },
  {
   "cell_type": "code",
   "execution_count": 278,
   "metadata": {},
   "outputs": [],
   "source": [
    "sim_7_GARCH_neg = np.empty(n)\n",
    "for i in range(n):\n",
    "    sim_7_GARCH_neg[i] = omega + (alpha * ((sim_6_GARCH_vol_neg[i] - Lambda) ** 2)) + beta * sim_6_GARCH_neg[i]"
   ]
  },
  {
   "cell_type": "code",
   "execution_count": 279,
   "metadata": {},
   "outputs": [],
   "source": [
    "sim_7_GARCH_vol_neg = np.empty(n)\n",
    "for i in range(n):\n",
    "    sim_7_GARCH_vol_neg[i] = sim_7[i] * np.sqrt(sim_7_GARCH_neg[i])"
   ]
  },
  {
   "cell_type": "code",
   "execution_count": 280,
   "metadata": {},
   "outputs": [],
   "source": [
    "sim_8_GARCH_neg = np.empty(n)\n",
    "for i in range(n):\n",
    "    sim_8_GARCH_neg[i] = omega + (alpha * ((sim_7_GARCH_vol_neg[i] - Lambda) ** 2)) + beta * sim_7_GARCH_neg[i]"
   ]
  },
  {
   "cell_type": "code",
   "execution_count": 281,
   "metadata": {},
   "outputs": [],
   "source": [
    "sim_8_GARCH_vol_neg = np.empty(n)\n",
    "for i in range(n):\n",
    "    sim_8_GARCH_vol_neg[i] = sim_8[i] * np.sqrt(sim_8_GARCH_neg[i])"
   ]
  },
  {
   "cell_type": "code",
   "execution_count": 282,
   "metadata": {},
   "outputs": [],
   "source": [
    "sim_9_GARCH_neg = np.empty(n)\n",
    "for i in range(n):\n",
    "    sim_9_GARCH_neg[i] = omega + (alpha * ((sim_8_GARCH_vol_neg[i] - Lambda) ** 2)) + beta * sim_8_GARCH_neg[i]"
   ]
  },
  {
   "cell_type": "code",
   "execution_count": 283,
   "metadata": {},
   "outputs": [],
   "source": [
    "sim_9_GARCH_vol_neg = np.empty(n)\n",
    "for i in range(n):\n",
    "    sim_9_GARCH_vol_neg[i] = sim_9[i] * np.sqrt(sim_9_GARCH_neg[i])"
   ]
  },
  {
   "cell_type": "code",
   "execution_count": 284,
   "metadata": {},
   "outputs": [],
   "source": [
    "sim_10_GARCH_neg = np.empty(n)\n",
    "for i in range(n):\n",
    "    sim_10_GARCH_neg[i] = omega + (alpha * ((sim_9_GARCH_vol_neg[i] - Lambda) ** 2)) + beta * sim_9_GARCH_neg[i]"
   ]
  },
  {
   "cell_type": "code",
   "execution_count": 285,
   "metadata": {},
   "outputs": [],
   "source": [
    "sim_10_GARCH_vol_neg = np.empty(n)\n",
    "for i in range(n):\n",
    "    sim_10_GARCH_vol_neg[i] = sim_10[i] * np.sqrt(sim_10_GARCH_neg[i])"
   ]
  },
  {
   "cell_type": "code",
   "execution_count": 286,
   "metadata": {},
   "outputs": [],
   "source": [
    "ten_day_log_return_GARCH_vol_neg = np.empty(n)\n",
    "for i in range(n):\n",
    "    ten_day_log_return_GARCH_vol_neg[i] = sim_1_GARCH_vol_neg[i] + sim_2_GARCH_vol_neg[i] + sim_3_GARCH_vol_neg[i] + sim_4_GARCH_vol_neg[i] + sim_5_GARCH_vol_neg[i] + sim_6_GARCH_vol_neg[i] + sim_7_GARCH_vol_neg[i] + sim_8_GARCH_vol_neg[i] + sim_9_GARCH_vol_neg[i] + sim_10_GARCH_vol_neg[i] "
   ]
  },
  {
   "cell_type": "code",
   "execution_count": 287,
   "metadata": {},
   "outputs": [],
   "source": [
    "constant_vol_VaR = np.empty(4)\n",
    "for i in range(4):\n",
    "    constant_vol_VaR[i] = -np.percentile(ten_day_log_return_constant_vol, significance_level[i])"
   ]
  },
  {
   "cell_type": "code",
   "execution_count": 288,
   "metadata": {},
   "outputs": [
    {
     "data": {
      "text/plain": [
       "array([0.1515162 , 0.11439224, 0.08166453, 0.06457972])"
      ]
     },
     "execution_count": 288,
     "metadata": {},
     "output_type": "execute_result"
    }
   ],
   "source": [
    "constant_vol_VaR"
   ]
  },
  {
   "cell_type": "code",
   "execution_count": 289,
   "metadata": {},
   "outputs": [],
   "source": [
    "pos_GARCH_vol_VaR = np.empty(4)\n",
    "for i in range(4):\n",
    "    pos_GARCH_vol_VaR[i] = -np.percentile(ten_day_log_return_GARCH_vol_pos, significance_level[i])"
   ]
  },
  {
   "cell_type": "code",
   "execution_count": 290,
   "metadata": {},
   "outputs": [
    {
     "data": {
      "text/plain": [
       "array([0.17540931, 0.12109754, 0.08189451, 0.06279208])"
      ]
     },
     "execution_count": 290,
     "metadata": {},
     "output_type": "execute_result"
    }
   ],
   "source": [
    "pos_GARCH_vol_VaR"
   ]
  },
  {
   "cell_type": "code",
   "execution_count": 291,
   "metadata": {},
   "outputs": [],
   "source": [
    "neg_GARCH_vol_VaR = np.empty(4)\n",
    "for i in range(4):\n",
    "    neg_GARCH_vol_VaR[i] = -np.percentile(ten_day_log_return_GARCH_vol_neg, significance_level[i])"
   ]
  },
  {
   "cell_type": "code",
   "execution_count": 292,
   "metadata": {},
   "outputs": [
    {
     "data": {
      "text/plain": [
       "array([0.18211191, 0.12625237, 0.08527506, 0.06542346])"
      ]
     },
     "execution_count": 292,
     "metadata": {},
     "output_type": "execute_result"
    }
   ],
   "source": [
    "neg_GARCH_vol_VaR"
   ]
  },
  {
   "cell_type": "code",
   "execution_count": 304,
   "metadata": {},
   "outputs": [
    {
     "name": "stdout",
     "output_type": "stream",
     "text": [
      "Stored 'AGARCH' (list)\n"
     ]
    }
   ],
   "source": [
    "AGARCH = [sim_1_GARCH_vol_pos[0], sim_2_GARCH_vol_pos[0], sim_3_GARCH_vol_pos[0], sim_4_GARCH_vol_pos[0], sim_5_GARCH_vol_pos[0], sim_6_GARCH_vol_pos[0], sim_7_GARCH_vol_pos[0], sim_8_GARCH_vol_pos[0], sim_9_GARCH_vol_pos[0], sim_10_GARCH_vol_pos[0]] \n",
    "%store AGARCH"
   ]
  }
 ],
 "metadata": {
  "kernelspec": {
   "display_name": "Python 3",
   "language": "python",
   "name": "python3"
  },
  "language_info": {
   "codemirror_mode": {
    "name": "ipython",
    "version": 3
   },
   "file_extension": ".py",
   "mimetype": "text/x-python",
   "name": "python",
   "nbconvert_exporter": "python",
   "pygments_lexer": "ipython3",
   "version": "3.6.5"
  }
 },
 "nbformat": 4,
 "nbformat_minor": 2
}
