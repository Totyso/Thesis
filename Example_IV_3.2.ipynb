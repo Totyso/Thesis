{
 "cells": [
  {
   "cell_type": "code",
   "execution_count": 209,
   "metadata": {},
   "outputs": [],
   "source": [
    "%store -r SP\n",
    "%store -r SP_2\n",
    "%store -r Returns\n",
    "%store -r VaR"
   ]
  },
  {
   "cell_type": "code",
   "execution_count": 210,
   "metadata": {},
   "outputs": [],
   "source": [
    "import numpy as np\n",
    "import pandas as pd"
   ]
  },
  {
   "cell_type": "code",
   "execution_count": 211,
   "metadata": {},
   "outputs": [],
   "source": [
    "n = SP.shape[0]\n",
    "\n",
    "AGARCH_standardized = np.empty(n-1)"
   ]
  },
  {
   "cell_type": "code",
   "execution_count": 212,
   "metadata": {},
   "outputs": [],
   "source": [
    "for i in range(0, n-1):\n",
    "    AGARCH_standardized[i] = SP['Rtn'][i+1] / np.sqrt(SP_2['Cond Var'][i+1])"
   ]
  },
  {
   "cell_type": "code",
   "execution_count": 213,
   "metadata": {},
   "outputs": [],
   "source": [
    "gamma = 0.000000360946440498536\n",
    "alpha = 0.0978672516991889\n",
    "beta = 0.898840462526082\n",
    "Lambda = 0.0037694281717221\n",
    "alpha_beta = alpha + beta\n",
    "LT_vol = np.sqrt(250*(gamma + (Lambda ** 2) * alpha) / (1 - alpha_beta))"
   ]
  },
  {
   "cell_type": "code",
   "execution_count": 214,
   "metadata": {},
   "outputs": [],
   "source": [
    "current_std = SP_2['AGARCH vol'][n-1] / np.sqrt(250)\n",
    "ten_vol_std = 0.1 / np.sqrt(250)"
   ]
  },
  {
   "cell_type": "code",
   "execution_count": 215,
   "metadata": {},
   "outputs": [],
   "source": [
    "Starting_values = pd.DataFrame({'sigma0': [current_std], 'r0': [SP['Rtn'][n-1]],\\\n",
    "    'sigma1': [np.sqrt(gamma + alpha * (Starting_values['r0'][0] - Lambda) ** 2 + beta * Starting_values['sigma0'][0] ** 2)]})"
   ]
  },
  {
   "cell_type": "code",
   "execution_count": 228,
   "metadata": {},
   "outputs": [
    {
     "name": "stderr",
     "output_type": "stream",
     "text": [
      "C:\\Users\\Tyson\\Anaconda3\\lib\\site-packages\\ipykernel_launcher.py:15: SettingWithCopyWarning: \n",
      "A value is trying to be set on a copy of a slice from a DataFrame\n",
      "\n",
      "See the caveats in the documentation: http://pandas.pydata.org/pandas-docs/stable/indexing.html#indexing-view-versus-copy\n",
      "  from ipykernel import kernelapp as app\n",
      "C:\\Users\\Tyson\\Anaconda3\\lib\\site-packages\\ipykernel_launcher.py:18: SettingWithCopyWarning: \n",
      "A value is trying to be set on a copy of a slice from a DataFrame\n",
      "\n",
      "See the caveats in the documentation: http://pandas.pydata.org/pandas-docs/stable/indexing.html#indexing-view-versus-copy\n"
     ]
    }
   ],
   "source": [
    "nreps = 500\n",
    "\n",
    "Row_1 = np.empty(nreps)\n",
    "columns_1 = ['r1', 'sigma1']\n",
    "\n",
    "for i in range(0, nreps):\n",
    "    Row_1[i] = np.random.randint(2, n-1)\n",
    "    \n",
    "set_1 = pd.DataFrame(index=Row_1, columns=columns_1)\n",
    "set_1.reset_index(inplace=True)\n",
    "set_1 = set_1.rename(columns={'index': 'Row no.'})\n",
    "\n",
    "for i in range(0, nreps):\n",
    "    a = int(Row_1[i])\n",
    "    set_1['r1'][i] = Starting_values['sigma1'][0] * AGARCH_standardized[a]\n",
    "    \n",
    "for i in range(0, nreps):\n",
    "    set_1['sigma1'][i] = np.sqrt(gamma + alpha * (set_1['r1'][i] - Lambda) ** 2 + beta * Starting_values['sigma1'][0] ** 2)"
   ]
  },
  {
   "cell_type": "code",
   "execution_count": 229,
   "metadata": {},
   "outputs": [
    {
     "name": "stderr",
     "output_type": "stream",
     "text": [
      "C:\\Users\\Tyson\\Anaconda3\\lib\\site-packages\\ipykernel_launcher.py:13: SettingWithCopyWarning: \n",
      "A value is trying to be set on a copy of a slice from a DataFrame\n",
      "\n",
      "See the caveats in the documentation: http://pandas.pydata.org/pandas-docs/stable/indexing.html#indexing-view-versus-copy\n",
      "  del sys.path[0]\n",
      "C:\\Users\\Tyson\\Anaconda3\\lib\\site-packages\\ipykernel_launcher.py:16: SettingWithCopyWarning: \n",
      "A value is trying to be set on a copy of a slice from a DataFrame\n",
      "\n",
      "See the caveats in the documentation: http://pandas.pydata.org/pandas-docs/stable/indexing.html#indexing-view-versus-copy\n",
      "  app.launch_new_instance()\n"
     ]
    }
   ],
   "source": [
    "Row_2 = np.empty(nreps)\n",
    "columns_2 = ['r2', 'sigma2']\n",
    "\n",
    "for i in range(0, nreps):\n",
    "    Row_2[i] = np.random.randint(2, n-1)\n",
    "    \n",
    "set_2 = pd.DataFrame(index=Row_2, columns=columns_2)\n",
    "set_2.reset_index(inplace=True)\n",
    "set_2 = set_2.rename(columns={'index': 'Row no.'})\n",
    "\n",
    "for i in range(0, nreps):\n",
    "    a = int(Row_2[i])\n",
    "    set_2['r2'][i] = set_1['sigma1'][i] * AGARCH_standardized[a]\n",
    "    \n",
    "for i in range(0, nreps):\n",
    "    set_2['sigma2'][i] = np.sqrt(gamma + alpha * (set_2['r2'][i] - Lambda) ** 2 + beta * set_1['sigma1'][i] ** 2)"
   ]
  },
  {
   "cell_type": "code",
   "execution_count": 230,
   "metadata": {},
   "outputs": [
    {
     "name": "stderr",
     "output_type": "stream",
     "text": [
      "C:\\Users\\Tyson\\Anaconda3\\lib\\site-packages\\ipykernel_launcher.py:13: SettingWithCopyWarning: \n",
      "A value is trying to be set on a copy of a slice from a DataFrame\n",
      "\n",
      "See the caveats in the documentation: http://pandas.pydata.org/pandas-docs/stable/indexing.html#indexing-view-versus-copy\n",
      "  del sys.path[0]\n",
      "C:\\Users\\Tyson\\Anaconda3\\lib\\site-packages\\ipykernel_launcher.py:16: SettingWithCopyWarning: \n",
      "A value is trying to be set on a copy of a slice from a DataFrame\n",
      "\n",
      "See the caveats in the documentation: http://pandas.pydata.org/pandas-docs/stable/indexing.html#indexing-view-versus-copy\n",
      "  app.launch_new_instance()\n"
     ]
    }
   ],
   "source": [
    "Row_3 = np.empty(nreps)\n",
    "columns_3 = ['r3', 'sigma3']\n",
    "\n",
    "for i in range(0, nreps):\n",
    "    Row_3[i] = np.random.randint(2, n-1)\n",
    "    \n",
    "set_3 = pd.DataFrame(index=Row_3, columns=columns_3)\n",
    "set_3.reset_index(inplace=True)\n",
    "set_3 = set_3.rename(columns={'index': 'Row no.'})\n",
    "\n",
    "for i in range(0, nreps):\n",
    "    a = int(Row_3[i])\n",
    "    set_3['r3'][i] = set_2['sigma2'][i] * AGARCH_standardized[a]\n",
    "    \n",
    "for i in range(0, nreps):\n",
    "    set_3['sigma3'][i] = np.sqrt(gamma + alpha * (set_3['r3'][i] - Lambda) ** 2 + beta * set_2['sigma2'][i] ** 2)"
   ]
  },
  {
   "cell_type": "code",
   "execution_count": 231,
   "metadata": {},
   "outputs": [
    {
     "name": "stderr",
     "output_type": "stream",
     "text": [
      "C:\\Users\\Tyson\\Anaconda3\\lib\\site-packages\\ipykernel_launcher.py:13: SettingWithCopyWarning: \n",
      "A value is trying to be set on a copy of a slice from a DataFrame\n",
      "\n",
      "See the caveats in the documentation: http://pandas.pydata.org/pandas-docs/stable/indexing.html#indexing-view-versus-copy\n",
      "  del sys.path[0]\n",
      "C:\\Users\\Tyson\\Anaconda3\\lib\\site-packages\\ipykernel_launcher.py:16: SettingWithCopyWarning: \n",
      "A value is trying to be set on a copy of a slice from a DataFrame\n",
      "\n",
      "See the caveats in the documentation: http://pandas.pydata.org/pandas-docs/stable/indexing.html#indexing-view-versus-copy\n",
      "  app.launch_new_instance()\n"
     ]
    }
   ],
   "source": [
    "Row_4 = np.empty(nreps)\n",
    "columns_4 = ['r4', 'sigma4']\n",
    "\n",
    "for i in range(0, nreps):\n",
    "    Row_4[i] = np.random.randint(2, n-1)\n",
    "    \n",
    "set_4 = pd.DataFrame(index=Row_4, columns=columns_4)\n",
    "set_4.reset_index(inplace=True)\n",
    "set_4 = set_4.rename(columns={'index': 'Row no.'})\n",
    "\n",
    "for i in range(0, nreps):\n",
    "    a = int(Row_4[i])\n",
    "    set_4['r4'][i] = set_3['sigma3'][i] * AGARCH_standardized[a]\n",
    "    \n",
    "for i in range(0, nreps):\n",
    "    set_4['sigma4'][i] = np.sqrt(gamma + alpha * (set_4['r4'][i] - Lambda) ** 2 + beta * set_3['sigma3'][i] ** 2)"
   ]
  },
  {
   "cell_type": "code",
   "execution_count": 232,
   "metadata": {},
   "outputs": [
    {
     "name": "stderr",
     "output_type": "stream",
     "text": [
      "C:\\Users\\Tyson\\Anaconda3\\lib\\site-packages\\ipykernel_launcher.py:13: SettingWithCopyWarning: \n",
      "A value is trying to be set on a copy of a slice from a DataFrame\n",
      "\n",
      "See the caveats in the documentation: http://pandas.pydata.org/pandas-docs/stable/indexing.html#indexing-view-versus-copy\n",
      "  del sys.path[0]\n",
      "C:\\Users\\Tyson\\Anaconda3\\lib\\site-packages\\ipykernel_launcher.py:16: SettingWithCopyWarning: \n",
      "A value is trying to be set on a copy of a slice from a DataFrame\n",
      "\n",
      "See the caveats in the documentation: http://pandas.pydata.org/pandas-docs/stable/indexing.html#indexing-view-versus-copy\n",
      "  app.launch_new_instance()\n"
     ]
    }
   ],
   "source": [
    "Row_5 = np.empty(nreps)\n",
    "columns_5 = ['r5', 'sigma5']\n",
    "\n",
    "for i in range(0, nreps):\n",
    "    Row_5[i] = np.random.randint(2, n-1)\n",
    "    \n",
    "set_5 = pd.DataFrame(index=Row_5, columns=columns_5)\n",
    "set_5.reset_index(inplace=True)\n",
    "set_5 = set_5.rename(columns={'index': 'Row no.'})\n",
    "\n",
    "for i in range(0, nreps):\n",
    "    a = int(Row_4[i])\n",
    "    set_5['r5'][i] = set_4['sigma4'][i] * AGARCH_standardized[a]\n",
    "    \n",
    "for i in range(0, nreps):\n",
    "    set_5['sigma5'][i] = np.sqrt(gamma + alpha * (set_5['r5'][i] - Lambda) ** 2 + beta * set_4['sigma4'][i] ** 2)"
   ]
  },
  {
   "cell_type": "code",
   "execution_count": 233,
   "metadata": {},
   "outputs": [
    {
     "name": "stderr",
     "output_type": "stream",
     "text": [
      "C:\\Users\\Tyson\\Anaconda3\\lib\\site-packages\\ipykernel_launcher.py:13: SettingWithCopyWarning: \n",
      "A value is trying to be set on a copy of a slice from a DataFrame\n",
      "\n",
      "See the caveats in the documentation: http://pandas.pydata.org/pandas-docs/stable/indexing.html#indexing-view-versus-copy\n",
      "  del sys.path[0]\n",
      "C:\\Users\\Tyson\\Anaconda3\\lib\\site-packages\\ipykernel_launcher.py:16: SettingWithCopyWarning: \n",
      "A value is trying to be set on a copy of a slice from a DataFrame\n",
      "\n",
      "See the caveats in the documentation: http://pandas.pydata.org/pandas-docs/stable/indexing.html#indexing-view-versus-copy\n",
      "  app.launch_new_instance()\n"
     ]
    }
   ],
   "source": [
    "Row_6 = np.empty(nreps)\n",
    "columns_6 = ['r6', 'sigma6']\n",
    "\n",
    "for i in range(0, nreps):\n",
    "    Row_6[i] = np.random.randint(2, n-1)\n",
    "    \n",
    "set_6 = pd.DataFrame(index=Row_6, columns=columns_6)\n",
    "set_6.reset_index(inplace=True)\n",
    "set_6 = set_6.rename(columns={'index': 'Row no.'})\n",
    "\n",
    "for i in range(0, nreps):\n",
    "    a = int(Row_6[i])\n",
    "    set_6['r6'][i] = set_5['sigma5'][i] * AGARCH_standardized[a]\n",
    "    \n",
    "for i in range(0, nreps):\n",
    "    set_6['sigma6'][i] = np.sqrt(gamma + alpha * (set_6['r6'][i] - Lambda) ** 2 + beta * set_5['sigma5'][i] ** 2)"
   ]
  },
  {
   "cell_type": "code",
   "execution_count": 234,
   "metadata": {},
   "outputs": [
    {
     "name": "stderr",
     "output_type": "stream",
     "text": [
      "C:\\Users\\Tyson\\Anaconda3\\lib\\site-packages\\ipykernel_launcher.py:13: SettingWithCopyWarning: \n",
      "A value is trying to be set on a copy of a slice from a DataFrame\n",
      "\n",
      "See the caveats in the documentation: http://pandas.pydata.org/pandas-docs/stable/indexing.html#indexing-view-versus-copy\n",
      "  del sys.path[0]\n",
      "C:\\Users\\Tyson\\Anaconda3\\lib\\site-packages\\ipykernel_launcher.py:16: SettingWithCopyWarning: \n",
      "A value is trying to be set on a copy of a slice from a DataFrame\n",
      "\n",
      "See the caveats in the documentation: http://pandas.pydata.org/pandas-docs/stable/indexing.html#indexing-view-versus-copy\n",
      "  app.launch_new_instance()\n"
     ]
    }
   ],
   "source": [
    "Row_7 = np.empty(nreps)\n",
    "columns_7 = ['r7', 'sigma7']\n",
    "\n",
    "for i in range(0, nreps):\n",
    "    Row_7[i] = np.random.randint(2, n-1)\n",
    "    \n",
    "set_7 = pd.DataFrame(index=Row_7, columns=columns_7)\n",
    "set_7.reset_index(inplace=True)\n",
    "set_7 = set_7.rename(columns={'index': 'Row no.'})\n",
    "\n",
    "for i in range(0, nreps):\n",
    "    a = int(Row_7[i])\n",
    "    set_7['r7'][i] = set_6['sigma6'][i] * AGARCH_standardized[a]\n",
    "    \n",
    "for i in range(0, nreps):\n",
    "    set_7['sigma7'][i] = np.sqrt(gamma + alpha * (set_7['r7'][i] - Lambda) ** 2 + beta * set_6['sigma6'][i] ** 2)"
   ]
  },
  {
   "cell_type": "code",
   "execution_count": 235,
   "metadata": {},
   "outputs": [
    {
     "name": "stderr",
     "output_type": "stream",
     "text": [
      "C:\\Users\\Tyson\\Anaconda3\\lib\\site-packages\\ipykernel_launcher.py:13: SettingWithCopyWarning: \n",
      "A value is trying to be set on a copy of a slice from a DataFrame\n",
      "\n",
      "See the caveats in the documentation: http://pandas.pydata.org/pandas-docs/stable/indexing.html#indexing-view-versus-copy\n",
      "  del sys.path[0]\n",
      "C:\\Users\\Tyson\\Anaconda3\\lib\\site-packages\\ipykernel_launcher.py:16: SettingWithCopyWarning: \n",
      "A value is trying to be set on a copy of a slice from a DataFrame\n",
      "\n",
      "See the caveats in the documentation: http://pandas.pydata.org/pandas-docs/stable/indexing.html#indexing-view-versus-copy\n",
      "  app.launch_new_instance()\n"
     ]
    }
   ],
   "source": [
    "Row_8 = np.empty(nreps)\n",
    "columns_8 = ['r8', 'sigma8']\n",
    "\n",
    "for i in range(0, nreps):\n",
    "    Row_8[i] = np.random.randint(2, n-1)\n",
    "    \n",
    "set_8 = pd.DataFrame(index=Row_8, columns=columns_8)\n",
    "set_8.reset_index(inplace=True)\n",
    "set_8 = set_8.rename(columns={'index': 'Row no.'})\n",
    "\n",
    "for i in range(0, nreps):\n",
    "    a = int(Row_8[i])\n",
    "    set_8['r8'][i] = set_7['sigma7'][i] * AGARCH_standardized[a]\n",
    "    \n",
    "for i in range(0, nreps):\n",
    "    set_8['sigma8'][i] = np.sqrt(gamma + alpha * (set_8['r8'][i] - Lambda) ** 2 + beta * set_7['sigma7'][i] ** 2)"
   ]
  },
  {
   "cell_type": "code",
   "execution_count": 236,
   "metadata": {},
   "outputs": [
    {
     "name": "stderr",
     "output_type": "stream",
     "text": [
      "C:\\Users\\Tyson\\Anaconda3\\lib\\site-packages\\ipykernel_launcher.py:13: SettingWithCopyWarning: \n",
      "A value is trying to be set on a copy of a slice from a DataFrame\n",
      "\n",
      "See the caveats in the documentation: http://pandas.pydata.org/pandas-docs/stable/indexing.html#indexing-view-versus-copy\n",
      "  del sys.path[0]\n",
      "C:\\Users\\Tyson\\Anaconda3\\lib\\site-packages\\ipykernel_launcher.py:16: SettingWithCopyWarning: \n",
      "A value is trying to be set on a copy of a slice from a DataFrame\n",
      "\n",
      "See the caveats in the documentation: http://pandas.pydata.org/pandas-docs/stable/indexing.html#indexing-view-versus-copy\n",
      "  app.launch_new_instance()\n"
     ]
    }
   ],
   "source": [
    "Row_9 = np.empty(nreps)\n",
    "columns_9 = ['r9', 'sigma9']\n",
    "\n",
    "for i in range(0, nreps):\n",
    "    Row_9[i] = np.random.randint(2, n-1)\n",
    "    \n",
    "set_9 = pd.DataFrame(index=Row_9, columns=columns_9)\n",
    "set_9.reset_index(inplace=True)\n",
    "set_9 = set_9.rename(columns={'index': 'Row no.'})\n",
    "\n",
    "for i in range(0, nreps):\n",
    "    a = int(Row_9[i])\n",
    "    set_9['r9'][i] = set_8['sigma8'][i] * AGARCH_standardized[a]\n",
    "    \n",
    "for i in range(0, nreps):\n",
    "    set_9['sigma9'][i] = np.sqrt(gamma + alpha * (set_9['r9'][i] - Lambda) ** 2 + beta * set_8['sigma8'][i] ** 2)"
   ]
  },
  {
   "cell_type": "code",
   "execution_count": 237,
   "metadata": {},
   "outputs": [
    {
     "name": "stderr",
     "output_type": "stream",
     "text": [
      "C:\\Users\\Tyson\\Anaconda3\\lib\\site-packages\\ipykernel_launcher.py:13: SettingWithCopyWarning: \n",
      "A value is trying to be set on a copy of a slice from a DataFrame\n",
      "\n",
      "See the caveats in the documentation: http://pandas.pydata.org/pandas-docs/stable/indexing.html#indexing-view-versus-copy\n",
      "  del sys.path[0]\n",
      "C:\\Users\\Tyson\\Anaconda3\\lib\\site-packages\\ipykernel_launcher.py:16: SettingWithCopyWarning: \n",
      "A value is trying to be set on a copy of a slice from a DataFrame\n",
      "\n",
      "See the caveats in the documentation: http://pandas.pydata.org/pandas-docs/stable/indexing.html#indexing-view-versus-copy\n",
      "  app.launch_new_instance()\n"
     ]
    }
   ],
   "source": [
    "Row_10 = np.empty(nreps)\n",
    "columns_10 = ['r10', '10-day Simulated Rtn']\n",
    "\n",
    "for i in range(0, nreps):\n",
    "    Row_10[i] = np.random.randint(2, n-1)\n",
    "    \n",
    "set_10 = pd.DataFrame(index=Row_10, columns=columns_10)\n",
    "set_10.reset_index(inplace=True)\n",
    "set_10 = set_10.rename(columns={'index': 'Row no.'})\n",
    "\n",
    "for i in range(0, nreps):\n",
    "    a = int(Row_10[i])\n",
    "    set_10['r10'][i] = set_9['sigma9'][i] * AGARCH_standardized[a]\n",
    "    \n",
    "for i in range(0, nreps):\n",
    "    set_10['10-day Simulated Rtn'][i] = set_1['r1'][i] + set_2['r2'][i] + set_3['r3'][i] + set_4['r4'][i] + \\\n",
    "        set_5['r5'][i] + set_6['r6'][i] + set_7['r7'][i] + set_8['r8'][i] + set_9['r9'][i] + set_10['r10'][i] "
   ]
  },
  {
   "cell_type": "code",
   "execution_count": 238,
   "metadata": {},
   "outputs": [],
   "source": [
    "Quantiles = [0.10, 1, 5, 10]\n",
    "Historical_VaR = pd.DataFrame({'Quantile': ['0.10%', '1%', '5%', '10%'], 'Scaled Up Daily VaR': [0.0, 0.0, 0.0, 0.0], 'FHS': [0.0, 0.0, 0.0, 0.0]})"
   ]
  },
  {
   "cell_type": "code",
   "execution_count": 239,
   "metadata": {},
   "outputs": [
    {
     "name": "stderr",
     "output_type": "stream",
     "text": [
      "C:\\Users\\Tyson\\Anaconda3\\lib\\site-packages\\ipykernel_launcher.py:2: SettingWithCopyWarning: \n",
      "A value is trying to be set on a copy of a slice from a DataFrame\n",
      "\n",
      "See the caveats in the documentation: http://pandas.pydata.org/pandas-docs/stable/indexing.html#indexing-view-versus-copy\n",
      "  \n",
      "C:\\Users\\Tyson\\Anaconda3\\lib\\site-packages\\ipykernel_launcher.py:5: SettingWithCopyWarning: \n",
      "A value is trying to be set on a copy of a slice from a DataFrame\n",
      "\n",
      "See the caveats in the documentation: http://pandas.pydata.org/pandas-docs/stable/indexing.html#indexing-view-versus-copy\n",
      "  \"\"\"\n"
     ]
    },
    {
     "data": {
      "text/html": [
       "<div>\n",
       "<style scoped>\n",
       "    .dataframe tbody tr th:only-of-type {\n",
       "        vertical-align: middle;\n",
       "    }\n",
       "\n",
       "    .dataframe tbody tr th {\n",
       "        vertical-align: top;\n",
       "    }\n",
       "\n",
       "    .dataframe thead th {\n",
       "        text-align: right;\n",
       "    }\n",
       "</style>\n",
       "<table border=\"1\" class=\"dataframe\">\n",
       "  <thead>\n",
       "    <tr style=\"text-align: right;\">\n",
       "      <th></th>\n",
       "      <th>Quantile</th>\n",
       "      <th>Scaled Up Daily VaR</th>\n",
       "      <th>FHS</th>\n",
       "    </tr>\n",
       "  </thead>\n",
       "  <tbody>\n",
       "    <tr>\n",
       "      <th>0</th>\n",
       "      <td>0.10%</td>\n",
       "      <td>0.222487</td>\n",
       "      <td>0.217036</td>\n",
       "    </tr>\n",
       "    <tr>\n",
       "      <th>1</th>\n",
       "      <td>1%</td>\n",
       "      <td>0.135281</td>\n",
       "      <td>0.144114</td>\n",
       "    </tr>\n",
       "    <tr>\n",
       "      <th>2</th>\n",
       "      <td>5%</td>\n",
       "      <td>0.088373</td>\n",
       "      <td>0.088646</td>\n",
       "    </tr>\n",
       "    <tr>\n",
       "      <th>3</th>\n",
       "      <td>10%</td>\n",
       "      <td>0.066756</td>\n",
       "      <td>0.059709</td>\n",
       "    </tr>\n",
       "  </tbody>\n",
       "</table>\n",
       "</div>"
      ],
      "text/plain": [
       "  Quantile  Scaled Up Daily VaR       FHS\n",
       "0    0.10%             0.222487  0.217036\n",
       "1       1%             0.135281  0.144114\n",
       "2       5%             0.088373  0.088646\n",
       "3      10%             0.066756  0.059709"
      ]
     },
     "execution_count": 239,
     "metadata": {},
     "output_type": "execute_result"
    }
   ],
   "source": [
    "for i in range(0, 4):\n",
    "    Historical_VaR['Scaled Up Daily VaR'][i] = VaR['AGARCH Rtn'][i] * np.sqrt(10)\n",
    "    \n",
    "for i in range(0, 4):\n",
    "    Historical_VaR['FHS'][i] = -np.percentile(set_10['10-day Simulated Rtn'], Quantiles[i])\n",
    "    \n",
    "Historical_VaR"
   ]
  },
  {
   "cell_type": "code",
   "execution_count": null,
   "metadata": {},
   "outputs": [],
   "source": []
  }
 ],
 "metadata": {
  "kernelspec": {
   "display_name": "Python 3",
   "language": "python",
   "name": "python3"
  },
  "language_info": {
   "codemirror_mode": {
    "name": "ipython",
    "version": 3
   },
   "file_extension": ".py",
   "mimetype": "text/x-python",
   "name": "python",
   "nbconvert_exporter": "python",
   "pygments_lexer": "ipython3",
   "version": "3.6.5"
  }
 },
 "nbformat": 4,
 "nbformat_minor": 2
}
