{
 "cells": [
  {
   "cell_type": "code",
   "execution_count": 1,
   "metadata": {},
   "outputs": [],
   "source": [
    "#Estimating the Parameters of GARCH"
   ]
  },
  {
   "cell_type": "code",
   "execution_count": 65,
   "metadata": {},
   "outputs": [],
   "source": [
    "import numpy as np \n",
    "import pandas as pd \n",
    "import matplotlib.pyplot as plt \n",
    "import seaborn \n",
    "from numpy import size, log, pi, sum, diff, array, zeros, diag, mat, asarray, sqrt, copy \n",
    "from numpy.linalg import inv \n",
    "from scipy.optimize import fmin_slsqp\n",
    "import scipy.optimize as opt"
   ]
  },
  {
   "cell_type": "code",
   "execution_count": 66,
   "metadata": {},
   "outputs": [],
   "source": [
    "#The conditional log-likelihood of a normal random variable"
   ]
  },
  {
   "cell_type": "markdown",
   "metadata": {},
   "source": [
    "$lnf(r_t|\\mu,\\sigma^2_t)$ = $-1/2(ln2\\pi + ln\\sigma^2_t + (r_t - \\mu)^2 / \\sigma^2_t)$"
   ]
  },
  {
   "cell_type": "code",
   "execution_count": 67,
   "metadata": {},
   "outputs": [],
   "source": [
    "def GARCH_likelihood(parameters, data, sigma2, out=None):\n",
    "    mu = parameters[0]\n",
    "    omega = parameters[1]\n",
    "    alpha = parameters[2]\n",
    "    beta = parameters[3]\n",
    "\n",
    "    T = size(data,0)\n",
    "    eps = data - mu \n",
    "    \n",
    "    for t in range(1,T):\n",
    "        sigma2[t] = (omega + alpha * eps[t-1]**2 + beta * sigma2[t-1])\n",
    "\n",
    "    logliks = 0.5*(log(2*pi) + log(sigma2) + eps**2/sigma2) \n",
    "    loglik = sum(logliks)\n",
    "    \n",
    "    if out is None:\n",
    "        return loglik \n",
    "    else:\n",
    "        return loglik, logliks, copy(sigma2)"
   ]
  },
  {
   "cell_type": "code",
   "execution_count": 68,
   "metadata": {},
   "outputs": [],
   "source": [
    "#Constraint"
   ]
  },
  {
   "cell_type": "code",
   "execution_count": 69,
   "metadata": {},
   "outputs": [],
   "source": [
    "def constraint(parameters, data, sigma2, out=None): \n",
    "    omega = parameters[1]\n",
    "    alpha = parameters[2]\n",
    "    beta = parameters[3]\n",
    "\n",
    "    return array([omega, alpha, beta, 1-alpha-beta])"
   ]
  },
  {
   "cell_type": "code",
   "execution_count": 70,
   "metadata": {},
   "outputs": [],
   "source": [
    "#Hessian"
   ]
  },
  {
   "cell_type": "code",
   "execution_count": 71,
   "metadata": {},
   "outputs": [],
   "source": [
    "def hessian_2sided(fun, theta, args):\n",
    "    f = fun(theta, *args)\n",
    "    h = 1e-5*np.abs(theta)\n",
    "    thetah = theta + h\n",
    "    h = thetah - theta \n",
    "    K = size(theta,0)\n",
    "    h = np.diag(h)\n",
    "\n",
    "    fp = zeros(K)\n",
    "    fm = zeros(K)\n",
    "    for i in range(K):\n",
    "        fp[i] = fun(theta+h[i], *args)\n",
    "        fm[i] = fun(theta-h[i], *args)\n",
    "        \n",
    "    fpp = zeros((K,K))\n",
    "    fmm = zeros((K,K))\n",
    "    for i in range(K):\n",
    "        for j in range(i,K):\n",
    "            fpp[i,j] = fun(theta + h[i] + h[j], *args)\n",
    "            fpp[j,i] = fpp[i,j]\n",
    "            fmm[i,j] = fun(theta - h[i] - h[j], *args)\n",
    "            fmm[j,i] = fmm[i,j]\n",
    "\n",
    "    hh = (diag(h))\n",
    "    hh = hh.reshape((K,1))\n",
    "    hh = hh @ hh.T\n",
    "\n",
    "    H = zeros((K,K))\n",
    "    \n",
    "    for i in range(K):\n",
    "        for j in range(i,K):\n",
    "            H[i,j] = (fpp[i,j] - fp[i] - fp[j] + f + f - fm[i] - fm[j] + fmm[i,j])/hh[i,j]/2\n",
    "            H[j,i] = H[i,j]\n",
    "\n",
    "    return H"
   ]
  },
  {
   "cell_type": "code",
   "execution_count": 72,
   "metadata": {},
   "outputs": [
    {
     "data": {
      "text/html": [
       "<div>\n",
       "<style scoped>\n",
       "    .dataframe tbody tr th:only-of-type {\n",
       "        vertical-align: middle;\n",
       "    }\n",
       "\n",
       "    .dataframe tbody tr th {\n",
       "        vertical-align: top;\n",
       "    }\n",
       "\n",
       "    .dataframe thead th {\n",
       "        text-align: right;\n",
       "    }\n",
       "</style>\n",
       "<table border=\"1\" class=\"dataframe\">\n",
       "  <thead>\n",
       "    <tr style=\"text-align: right;\">\n",
       "      <th></th>\n",
       "      <th>spindx</th>\n",
       "    </tr>\n",
       "    <tr>\n",
       "      <th>DATE</th>\n",
       "      <th></th>\n",
       "    </tr>\n",
       "  </thead>\n",
       "  <tbody>\n",
       "    <tr>\n",
       "      <th>2008-03-31</th>\n",
       "      <td>1322.70</td>\n",
       "    </tr>\n",
       "    <tr>\n",
       "      <th>2008-03-28</th>\n",
       "      <td>1315.22</td>\n",
       "    </tr>\n",
       "    <tr>\n",
       "      <th>2008-03-27</th>\n",
       "      <td>1325.76</td>\n",
       "    </tr>\n",
       "    <tr>\n",
       "      <th>2008-03-26</th>\n",
       "      <td>1341.13</td>\n",
       "    </tr>\n",
       "    <tr>\n",
       "      <th>2008-03-25</th>\n",
       "      <td>1352.99</td>\n",
       "    </tr>\n",
       "  </tbody>\n",
       "</table>\n",
       "</div>"
      ],
      "text/plain": [
       "             spindx\n",
       "DATE               \n",
       "2008-03-31  1322.70\n",
       "2008-03-28  1315.22\n",
       "2008-03-27  1325.76\n",
       "2008-03-26  1341.13\n",
       "2008-03-25  1352.99"
      ]
     },
     "execution_count": 72,
     "metadata": {},
     "output_type": "execute_result"
    }
   ],
   "source": [
    "SP = pd.read_csv('S&P_data.csv', parse_dates=[0])\n",
    "SP.index = SP.pop('DATE')\n",
    "SP = SP.iloc[::-1]\n",
    "SPprice = SP['spindx']\n",
    "SPreturn = 100 * -SPprice.pct_change().dropna()\n",
    "SP.head()"
   ]
  },
  {
   "cell_type": "code",
   "execution_count": 73,
   "metadata": {},
   "outputs": [],
   "source": [
    "startingVals = array([SPreturn.mean(), SPreturn.var() * .01, .09, .90]) "
   ]
  },
  {
   "cell_type": "code",
   "execution_count": 88,
   "metadata": {},
   "outputs": [],
   "source": [
    "mu = log(1.15) / 252\n",
    "w = 10.0**-6\n",
    "a = 0.085\n",
    "b = 0.905"
   ]
  },
  {
   "cell_type": "code",
   "execution_count": 89,
   "metadata": {},
   "outputs": [],
   "source": [
    "startingVals = array([mu, w, a, b]) "
   ]
  },
  {
   "cell_type": "code",
   "execution_count": 90,
   "metadata": {},
   "outputs": [
    {
     "name": "stdout",
     "output_type": "stream",
     "text": [
      "Optimization terminated successfully.    (Exit mode 0)\n",
      "            Current function value: 4569.826396821592\n",
      "            Iterations: 15\n",
      "            Function evaluations: 106\n",
      "            Gradient evaluations: 15\n"
     ]
    }
   ],
   "source": [
    "finfo = np.finfo(np.float64) \n",
    "bounds = [(-10*SPreturn.mean(), 10*SPreturn.mean()), (finfo.eps, 2*SPreturn.var() ), (0.0,1.0), (0.0,1.0)]\n",
    "\n",
    "T = SPreturn.shape[0]\n",
    "sigma2 = np.ones(T) * SPreturn.var()\n",
    "\n",
    "args = (np.asarray(SPreturn), sigma2)\n",
    "estimates = fmin_slsqp(GARCH_likelihood, startingVals, f_ieqcons = constraint, bounds = bounds, args = args)"
   ]
  },
  {
   "cell_type": "code",
   "execution_count": 91,
   "metadata": {},
   "outputs": [],
   "source": [
    "loglik, logliks, sigma2final = GARCH_likelihood(estimates, SPreturn, sigma2, out=True)"
   ]
  },
  {
   "cell_type": "raw",
   "metadata": {},
   "source": [
    "def simulate_garch(parameters, numObs):\n",
    "    \n",
    "    ## extract the parameter values\n",
    "    mu = parameters[0]\n",
    "    w = parameters[1]\n",
    "    a = parameters[2]\n",
    "    b = parameters[3]\n",
    "    \n",
    "    ## initialize arrays for storage\n",
    "    z = np.random.normal(size=(numObs + 1))\n",
    "    q = zeros((numObs + 1))\n",
    "    r = zeros((numObs + 1))\n",
    "    \n",
    "    ## fix initial values \n",
    "    q[0] = w / (1.0 - a - b)\n",
    "    r[0] = mu + z[0] * sqrt(q[0])\n",
    "    e = (r[0] - mu) \n",
    "    \n",
    "    ## run the main simulation loop\n",
    "    for t in range(1, numObs + 1):\n",
    "        q[t] = w + a * (e * e) + b * q[t-1]\n",
    "        r[t] = mu + z[t] * sqrt(q[t])\n",
    "        e = (r[t] - mu) \n",
    "        \n",
    "    ## return a tuple with both returns and conditional variances\n",
    "    return (r, q)"
   ]
  },
  {
   "cell_type": "raw",
   "metadata": {},
   "source": [
    "## number of trading days per year\n",
    "numObs = 2500\n",
    "\n",
    "## daily continuously compounded rate of return correpsonding to 15% annual\n",
    "mu = log(1.15) / 252\n",
    "#mu = 0.0\n",
    "\n",
    "## drift and GARCH(1,1) parameters in an array\n",
    "params = array([mu, w, a, b])\n",
    "\n",
    "## run the simulation\n",
    "r, s = simulate_garch(params, numObs)"
   ]
  },
  {
   "cell_type": "code",
   "execution_count": 94,
   "metadata": {},
   "outputs": [
    {
     "data": {
      "text/plain": [
       "      fun: -8105.306473782886\n",
       " hess_inv: <4x4 LbfgsInvHessProduct with dtype=float64>\n",
       "      jac: array([   67.75262591, 24415.73633405,    83.41194189,   171.63547454])\n",
       "  message: b'CONVERGENCE: REL_REDUCTION_OF_F_<=_FACTR*EPSMCH'\n",
       "     nfev: 170\n",
       "      nit: 20\n",
       "   status: 0\n",
       "  success: True\n",
       "        x: array([6.67790297e-04, 1.28408495e-06, 8.50020777e-02, 9.04995341e-01])"
      ]
     },
     "execution_count": 94,
     "metadata": {},
     "output_type": "execute_result"
    }
   ],
   "source": [
    "results = opt.minimize(fun=GARCH_likelihood, x0=startingVals, args=(r,s), method='L-BFGS-B', bounds=bounds)\n",
    "#results = opt.minimize(fun=GARCH_likelihood, x0=startingVals, args=(r,s), method='Nelder-Mead')\n",
    "#results = opt.minimize(fun=GARCH_likelihood, x0=startingVals, args=(r,s), method='BFGS')\n",
    "#results = opt.minimize(fun=GARCH_likelihood, x0=startingVals, args=(r,s), method='SLSQP', bounds=bounds)\n",
    "results"
   ]
  },
  {
   "cell_type": "code",
   "execution_count": 95,
   "metadata": {},
   "outputs": [],
   "source": [
    "step = .00001 * estimates \n",
    "scores = zeros((T,4))\n",
    "for i in range(4):\n",
    "    h = step[i]\n",
    "    delta = np.zeros(4)\n",
    "    delta[i] = h\n",
    "\n",
    "    loglik, logliksplus, sigma2 = GARCH_likelihood(estimates + delta, np.asarray(SPreturn), sigma2, out=True)\n",
    "    loglik, logliksminus, sigma2 = GARCH_likelihood(estimates - delta, np.asarray(SPreturn), sigma2, out=True)\n",
    "\n",
    "    scores[:,i] = (logliksplus - logliksminus)/(2*h)\n",
    "\n",
    "I = (scores.T @ scores)/T"
   ]
  },
  {
   "cell_type": "code",
   "execution_count": 96,
   "metadata": {},
   "outputs": [],
   "source": [
    "J = hessian_2sided(GARCH_likelihood, estimates, args)\n",
    "J = J/T + 0.0000000000001*np.random.rand()\n",
    "Jinv = mat(inv(J))\n",
    "vcv = Jinv*mat(I)*Jinv/T\n",
    "vcv = asarray(vcv)"
   ]
  },
  {
   "cell_type": "code",
   "execution_count": 97,
   "metadata": {},
   "outputs": [
    {
     "name": "stdout",
     "output_type": "stream",
     "text": [
      "Parameter Estimate Std. Err. T-stat\n",
      "mu          0.064253 0.013799  4.65627\n",
      "omega       0.006714 0.002670  2.51454\n",
      "alpha       0.073731 0.012306  5.99165\n",
      "beta        0.922144 0.012583  73.28774\n"
     ]
    }
   ],
   "source": [
    "output = np.vstack((estimates,sqrt(diag(vcv)),estimates/sqrt(diag(vcv)))).T \n",
    "print('Parameter Estimate Std. Err. T-stat')\n",
    "param = ['mu','omega','alpha','beta']\n",
    "for i in range(len(param)):\n",
    "    print('{0:<11} {1:>0.6f} {2:0.6f} {3: 0.5f}'.format(param[i], output[i,0], output[i,1], output[i,2]))"
   ]
  },
  {
   "cell_type": "code",
   "execution_count": 98,
   "metadata": {},
   "outputs": [
    {
     "data": {
      "image/png": "[encoded data removed]",
      "text/plain": [
       "<Figure size 432x288 with 1 Axes>"
      ]
     },
     "metadata": {},
     "output_type": "display_data"
    }
   ],
   "source": [
    "dates = SP.index[1:]\n",
    "fig = plt.figure()\n",
    "ax = fig.add_subplot(111)\n",
    "volatility = pd.DataFrame(np.sqrt(252 * sigma2))#, index=dates)\n",
    "ax.plot(volatility.index,volatility)\n",
    "#ax.autoscale(tight='x')\n",
    "fig.autofmt_xdate()\n",
    "fig.tight_layout(pad=1.5)\n",
    "ax.set_ylabel('Volatility')\n",
    "ax.set_title('SP Volatility (GARCH(1,1))')\n",
    "plt.show()"
   ]
  },
  {
   "cell_type": "code",
   "execution_count": 99,
   "metadata": {},
   "outputs": [],
   "source": [
    "mu = output[0,0]\n",
    "omega = output[1,0]\n",
    "alpha = output[2,0]\n",
    "beta = output[3,0]"
   ]
  },
  {
   "cell_type": "code",
   "execution_count": 63,
   "metadata": {},
   "outputs": [],
   "source": [
    "results = results['x']\n",
    "mu = results[0]\n",
    "omega = results[0]\n",
    "alpha = results[0]\n",
    "beta = results[0]"
   ]
  },
  {
   "cell_type": "code",
   "execution_count": 100,
   "metadata": {},
   "outputs": [
    {
     "name": "stdout",
     "output_type": "stream",
     "text": [
      "Stored 'mu' (float64)\n",
      "Stored 'omega' (float64)\n",
      "Stored 'alpha' (float64)\n",
      "Stored 'beta' (float64)\n"
     ]
    }
   ],
   "source": [
    "%store mu\n",
    "%store omega\n",
    "%store alpha\n",
    "%store beta"
   ]
  },
  {
   "cell_type": "code",
   "execution_count": null,
   "metadata": {},
   "outputs": [],
   "source": []
  }
 ],
 "metadata": {
  "kernelspec": {
   "display_name": "Python 3",
   "language": "python",
   "name": "python3"
  },
  "language_info": {
   "codemirror_mode": {
    "name": "ipython",
    "version": 3
   },
   "file_extension": ".py",
   "mimetype": "text/x-python",
   "name": "python",
   "nbconvert_exporter": "python",
   "pygments_lexer": "ipython3",
   "version": "3.6.5"
  }
 },
 "nbformat": 4,
 "nbformat_minor": 2
}
