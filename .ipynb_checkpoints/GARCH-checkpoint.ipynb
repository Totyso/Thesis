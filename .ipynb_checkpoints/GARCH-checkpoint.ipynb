{
 "cells": [
  {
   "cell_type": "code",
   "execution_count": 1,
   "metadata": {},
   "outputs": [],
   "source": [
    "#Estimating the Parameters of GARCH"
   ]
  },
  {
   "cell_type": "code",
   "execution_count": 1,
   "metadata": {},
   "outputs": [],
   "source": [
    "import numpy as np \n",
    "import pandas as pd \n",
    "import matplotlib.pyplot as plt \n",
    "import seaborn \n",
    "from numpy import size, log, pi, sum, diff, array, zeros, diag, mat, asarray, sqrt, copy \n",
    "from numpy.linalg import inv \n",
    "from scipy.optimize import fmin_slsqp"
   ]
  },
  {
   "cell_type": "code",
   "execution_count": 2,
   "metadata": {},
   "outputs": [],
   "source": [
    "#The conditional log-likelihood of a normal random variable"
   ]
  },
  {
   "cell_type": "markdown",
   "metadata": {},
   "source": [
    "$lnf(r_t|\\mu,\\sigma^2_t)$ = $-1/2(ln2\\pi + ln\\sigma^2_t + (r_t - \\mu)^2 / \\sigma^2_t)$"
   ]
  },
  {
   "cell_type": "code",
   "execution_count": 3,
   "metadata": {},
   "outputs": [],
   "source": [
    "def GARCH_likelihood(parameters, data, sigma2, out=None):\n",
    "    mu = parameters[0]\n",
    "    omega = parameters[1]\n",
    "    alpha = parameters[2]\n",
    "    beta = parameters[3]\n",
    "\n",
    "    T = size(data,0)\n",
    "    eps = data - mu \n",
    "    \n",
    "    for t in range(1,T):\n",
    "        sigma2[t] = (omega + alpha * eps[t-1]**2 + beta * sigma2[t-1])\n",
    "\n",
    "    logliks = 0.5*(log(2*pi) + log(sigma2) + eps**2/sigma2) \n",
    "    loglik = sum(logliks)\n",
    "    \n",
    "    if out is None:\n",
    "        return loglik \n",
    "    else:\n",
    "        return loglik, logliks, copy(sigma2)"
   ]
  },
  {
   "cell_type": "code",
   "execution_count": 4,
   "metadata": {},
   "outputs": [],
   "source": [
    "#Constraint"
   ]
  },
  {
   "cell_type": "code",
   "execution_count": 5,
   "metadata": {},
   "outputs": [],
   "source": [
    "def constraint(parameters, data, sigma2, out=None): \n",
    "    alpha = parameters[2]\n",
    "    beta = parameters[3]\n",
    "\n",
    "    return array([1-alpha/2-beta])"
   ]
  },
  {
   "cell_type": "code",
   "execution_count": 6,
   "metadata": {},
   "outputs": [],
   "source": [
    "#Hessian"
   ]
  },
  {
   "cell_type": "code",
   "execution_count": 7,
   "metadata": {},
   "outputs": [],
   "source": [
    "def hessian_2sided(fun, theta, args):\n",
    "    f = fun(theta, *args)\n",
    "    h = 1e-5*np.abs(theta)\n",
    "    thetah = theta + h\n",
    "    h = thetah - theta \n",
    "    K = size(theta,0)\n",
    "    h = np.diag(h)\n",
    "\n",
    "    fp = zeros(K)\n",
    "    fm = zeros(K)\n",
    "    for i in range(K):\n",
    "        fp[i] = fun(theta+h[i], *args)\n",
    "        fm[i] = fun(theta-h[i], *args)\n",
    "        \n",
    "    fpp = zeros((K,K))\n",
    "    fmm = zeros((K,K))\n",
    "    for i in range(K):\n",
    "        for j in range(i,K):\n",
    "            fpp[i,j] = fun(theta + h[i] + h[j], *args)\n",
    "            fpp[j,i] = fpp[i,j]\n",
    "            fmm[i,j] = fun(theta - h[i] - h[j], *args)\n",
    "            fmm[j,i] = fmm[i,j]\n",
    "\n",
    "    hh = (diag(h))\n",
    "    hh = hh.reshape((K,1))\n",
    "    hh = hh @ hh.T\n",
    "\n",
    "    H = zeros((K,K))\n",
    "    \n",
    "    for i in range(K):\n",
    "        for j in range(i,K):\n",
    "            H[i,j] = (fpp[i,j] - fp[i] - fp[j] + f + f - fm[i] - fm[j] + fmm[i,j])/hh[i,j]/2\n",
    "            H[j,i] = H[i,j]\n",
    "\n",
    "    return H"
   ]
  },
  {
   "cell_type": "code",
   "execution_count": 8,
   "metadata": {},
   "outputs": [],
   "source": [
    "AAPL = pd.read_csv('Apple_data.csv', parse_dates=[0])\n",
    "AAPL.index = AAPL.pop('date')\n",
    "AAPL = AAPL.iloc[::-1]\n",
    "AAPLprice = AAPL['BID']\n",
    "AAPLreturn = 100 * -AAPLprice.pct_change().dropna()"
   ]
  },
  {
   "cell_type": "code",
   "execution_count": 9,
   "metadata": {},
   "outputs": [],
   "source": [
    "startingVals = array([AAPLreturn.mean(), AAPLreturn.var() * .01, .03, .09, .90]) "
   ]
  },
  {
   "cell_type": "code",
   "execution_count": 10,
   "metadata": {},
   "outputs": [
    {
     "name": "stdout",
     "output_type": "stream",
     "text": [
      "Optimization terminated successfully.    (Exit mode 0)\n",
      "            Current function value: 2255.721540088758\n",
      "            Iterations: 23\n",
      "            Function evaluations: 178\n",
      "            Gradient evaluations: 23\n"
     ]
    }
   ],
   "source": [
    "finfo = np.finfo(np.float64) \n",
    "bounds = [(-10*AAPLreturn.mean(), 10*AAPLreturn.mean()), (finfo.eps, 2*AAPLreturn.var() ), (0.0,1.0), (0.0,1.0), (0.0,1.0)]\n",
    "\n",
    "T = AAPLreturn.shape[0]\n",
    "sigma2 = np.ones(T) * AAPLreturn.var()\n",
    "\n",
    "args = (np.asarray(AAPLreturn), sigma2)\n",
    "estimates = fmin_slsqp(GARCH_likelihood, startingVals, f_ieqcons = constraint, bounds = bounds, args = args)"
   ]
  },
  {
   "cell_type": "code",
   "execution_count": 11,
   "metadata": {},
   "outputs": [],
   "source": [
    "loglik, logliks, sigma2final = GARCH_likelihood(estimates, AAPLreturn, sigma2, out=True)"
   ]
  },
  {
   "cell_type": "code",
   "execution_count": 12,
   "metadata": {},
   "outputs": [],
   "source": [
    "step = .00001 * estimates \n",
    "scores = zeros((T,5))\n",
    "for i in range(5):\n",
    "    h = step[i]\n",
    "    delta = np.zeros(5)\n",
    "    delta[i] = h\n",
    "\n",
    "    loglik, logliksplus, sigma2 = GARCH_likelihood(estimates + delta, np.asarray(AAPLreturn), sigma2, out=True)\n",
    "    loglik, logliksminus, sigma2 = GARCH_likelihood(estimates - delta, np.asarray(AAPLreturn), sigma2, out=True)\n",
    "\n",
    "    scores[:,i] = (logliksplus - logliksminus)/(2*h)\n",
    "\n",
    "I = (scores.T @ scores)/T"
   ]
  },
  {
   "cell_type": "code",
   "execution_count": 13,
   "metadata": {},
   "outputs": [],
   "source": [
    "J = hessian_2sided(GARCH_likelihood, estimates, args)\n",
    "J = J/T + 0.0000000000001*np.random.rand()\n",
    "Jinv = mat(inv(J))\n",
    "vcv = Jinv*mat(I)*Jinv/T\n",
    "vcv = asarray(vcv)"
   ]
  },
  {
   "cell_type": "code",
   "execution_count": 14,
   "metadata": {},
   "outputs": [
    {
     "name": "stdout",
     "output_type": "stream",
     "text": [
      "Parameter Estimate Std. Err. T-stat\n",
      "mu          0.261593 0.063490  4.12022\n",
      "omega       0.216694 0.085395  2.53756\n",
      "alpha       0.141613 0.032972  4.29492\n",
      "beta        0.831436 0.035323  23.53818\n"
     ]
    }
   ],
   "source": [
    "output = np.vstack((estimates,sqrt(diag(vcv)),estimates/sqrt(diag(vcv)))).T \n",
    "print('Parameter Estimate Std. Err. T-stat')\n",
    "param = ['mu','omega','alpha','beta']\n",
    "for i in range(len(param)):\n",
    "    print('{0:<11} {1:>0.6f} {2:0.6f} {3: 0.5f}'.format(param[i], output[i,0], output[i,1], output[i,2]))"
   ]
  },
  {
   "cell_type": "code",
   "execution_count": 15,
   "metadata": {},
   "outputs": [
    {
     "data": {
      "image/png": "[encoded data removed]",
      "text/plain": [
       "<Figure size 432x288 with 1 Axes>"
      ]
     },
     "metadata": {},
     "output_type": "display_data"
    }
   ],
   "source": [
    "dates = AAPL.index[1:]\n",
    "fig = plt.figure()\n",
    "ax = fig.add_subplot(111)\n",
    "volatility = pd.DataFrame(np.sqrt(252 * sigma2))#, index=dates)\n",
    "ax.plot(volatility.index,volatility)\n",
    "#ax.autoscale(tight='x')\n",
    "fig.autofmt_xdate()\n",
    "fig.tight_layout(pad=1.5)\n",
    "ax.set_ylabel('Volatility')\n",
    "ax.set_title('AAPL Volatility (GARCH(1,1))')\n",
    "plt.show()"
   ]
  },
  {
   "cell_type": "code",
   "execution_count": null,
   "metadata": {},
   "outputs": [],
   "source": []
  }
 ],
 "metadata": {
  "kernelspec": {
   "display_name": "Python 3",
   "language": "python",
   "name": "python3"
  },
  "language_info": {
   "codemirror_mode": {
    "name": "ipython",
    "version": 3
   },
   "file_extension": ".py",
   "mimetype": "text/x-python",
   "name": "python",
   "nbconvert_exporter": "python",
   "pygments_lexer": "ipython3",
   "version": "3.6.5"
  }
 },
 "nbformat": 4,
 "nbformat_minor": 2
}
