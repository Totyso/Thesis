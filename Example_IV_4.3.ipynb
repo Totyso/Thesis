{
 "cells": [
  {
   "cell_type": "code",
   "execution_count": 2,
   "metadata": {},
   "outputs": [],
   "source": [
    "import numpy as np\n",
    "import random"
   ]
  },
  {
   "cell_type": "code",
   "execution_count": 3,
   "metadata": {},
   "outputs": [],
   "source": [
    "n = 10\n",
    "a = np.empty(n)\n",
    "a_rand = np.empty(20)\n",
    "for i in range(n):\n",
    "    for j in range(20):\n",
    "        a_rand[j] = random.uniform(0,1)\n",
    "    a[i] = np.mean(a_rand)"
   ]
  },
  {
   "cell_type": "code",
   "execution_count": 4,
   "metadata": {},
   "outputs": [],
   "source": [
    "n = 10\n",
    "b = np.empty(n)\n",
    "b_rand = np.empty(20)\n",
    "for i in range(n):\n",
    "    for j in range(0, 12):\n",
    "        b_rand[j] = random.uniform(0,1)\n",
    "    for j in range(12, 20):\n",
    "        b_rand[j] = 1 - b_rand[j - 11]\n",
    "    b[i] = np.mean(b_rand)"
   ]
  },
  {
   "cell_type": "code",
   "execution_count": 5,
   "metadata": {},
   "outputs": [],
   "source": [
    "a_std = np.std(a)"
   ]
  },
  {
   "cell_type": "code",
   "execution_count": 6,
   "metadata": {},
   "outputs": [],
   "source": [
    "b_std = np.std(b)"
   ]
  },
  {
   "cell_type": "code",
   "execution_count": 8,
   "metadata": {},
   "outputs": [
    {
     "data": {
      "text/plain": [
       "0.37489523674442904"
      ]
     },
     "execution_count": 8,
     "metadata": {},
     "output_type": "execute_result"
    }
   ],
   "source": [
    "b_std/a_std"
   ]
  },
  {
   "cell_type": "code",
   "execution_count": 33,
   "metadata": {},
   "outputs": [
    {
     "data": {
      "text/plain": [
       "array([0.00787402, 0.02362205, 0.07086614, 0.21259843, 0.63779528,\n",
       "       0.91338583, 0.74015748, 0.22047244, 0.66141732, 0.98425197,\n",
       "       0.95275591, 0.85826772, 0.57480315, 0.72440945, 0.17322835,\n",
       "       0.51968504, 0.55905512, 0.67716535, 0.03149606, 0.09448819,\n",
       "       0.28346457, 0.8503937 , 0.5511811 , 0.65354331, 0.96062992,\n",
       "       0.88188976, 0.64566929, 0.93700787, 0.81102362, 0.43307087,\n",
       "       0.2992126 , 0.8976378 , 0.69291339, 0.07874016, 0.22047244])"
      ]
     },
     "execution_count": 33,
     "metadata": {},
     "output_type": "execute_result"
    }
   ],
   "source": []
  },
  {
   "cell_type": "code",
   "execution_count": null,
   "metadata": {},
   "outputs": [],
   "source": []
  }
 ],
 "metadata": {
  "kernelspec": {
   "display_name": "Python 3",
   "language": "python",
   "name": "python3"
  },
  "language_info": {
   "codemirror_mode": {
    "name": "ipython",
    "version": 3
   },
   "file_extension": ".py",
   "mimetype": "text/x-python",
   "name": "python",
   "nbconvert_exporter": "python",
   "pygments_lexer": "ipython3",
   "version": "3.6.5"
  }
 },
 "nbformat": 4,
 "nbformat_minor": 2
}
