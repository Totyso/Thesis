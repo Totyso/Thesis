{
 "cells": [
  {
   "cell_type": "code",
   "execution_count": 1,
   "metadata": {},
   "outputs": [],
   "source": [
    "#Estimating the Parameters of GARCH"
   ]
  },
  {
   "cell_type": "code",
   "execution_count": 113,
   "metadata": {},
   "outputs": [],
   "source": [
    "import numpy as np \n",
    "import pandas as pd \n",
    "import matplotlib.pyplot as plt \n",
    "import seaborn \n",
    "from numpy import size, log, pi, sum, diff, array, zeros, diag, mat, asarray, sqrt, copy \n",
    "from numpy.linalg import inv \n",
    "from scipy.optimize import fmin_slsqp"
   ]
  },
  {
   "cell_type": "code",
   "execution_count": 114,
   "metadata": {},
   "outputs": [],
   "source": [
    "#The conditional log-likelihood of a normal random variable"
   ]
  },
  {
   "cell_type": "markdown",
   "metadata": {},
   "source": [
    "$lnf(r_t|\\mu,\\sigma^2_t)$ = $-1/2(ln2\\pi + ln\\sigma^2_t + (r_t - \\mu)^2 / \\sigma^2_t)$"
   ]
  },
  {
   "cell_type": "code",
   "execution_count": 115,
   "metadata": {},
   "outputs": [],
   "source": [
    "def GJR_GARCH_likelihood(parameters, data, sigma2, out=None):\n",
    "    mu = parameters[0]\n",
    "    omega = parameters[1]\n",
    "    alpha = parameters[2]\n",
    "    gamma = parameters[3]\n",
    "    beta = parameters[4]\n",
    "\n",
    "    T = size(data,0)\n",
    "    eps = data - mu \n",
    "    \n",
    "    for t in range(1,T):\n",
    "        sigma2[t] = (omega + alpha * eps[t-1]**2 + gamma * eps[t-1]**2 * (eps[t-1]<0) + beta * sigma2[t-1])\n",
    "\n",
    "    logliks = 0.5*(log(2*pi) + log(sigma2) + eps**2/sigma2) \n",
    "    loglik = sum(logliks)\n",
    "    \n",
    "    if out is None:\n",
    "        return loglik \n",
    "    else:\n",
    "        return loglik, logliks, copy(sigma2)"
   ]
  },
  {
   "cell_type": "code",
   "execution_count": 116,
   "metadata": {},
   "outputs": [],
   "source": [
    "#Constraint"
   ]
  },
  {
   "cell_type": "code",
   "execution_count": 117,
   "metadata": {},
   "outputs": [],
   "source": [
    "def GJR_constraint(parameters, data, sigma2, out=None): \n",
    "    alpha = parameters[2]\n",
    "    gamma = parameters[3]\n",
    "    beta = parameters[4]\n",
    "\n",
    "    return array([1-alpha-gamma/2-beta])"
   ]
  },
  {
   "cell_type": "code",
   "execution_count": 118,
   "metadata": {},
   "outputs": [],
   "source": [
    "#Hessian"
   ]
  },
  {
   "cell_type": "code",
   "execution_count": 119,
   "metadata": {},
   "outputs": [],
   "source": [
    "def hessian_2sided(fun, theta, args):\n",
    "    f = fun(theta, *args)\n",
    "    h = 1e-5*np.abs(theta)\n",
    "    thetah = theta + h\n",
    "    h = thetah - theta \n",
    "    K = size(theta,0)\n",
    "    h = np.diag(h)\n",
    "\n",
    "    fp = zeros(K)\n",
    "    fm = zeros(K)\n",
    "    for i in range(K):\n",
    "        fp[i] = fun(theta+h[i], *args)\n",
    "        fm[i] = fun(theta-h[i], *args)\n",
    "        \n",
    "    fpp = zeros((K,K))\n",
    "    fmm = zeros((K,K))\n",
    "    for i in range(K):\n",
    "        for j in range(i,K):\n",
    "            fpp[i,j] = fun(theta + h[i] + h[j], *args)\n",
    "            fpp[j,i] = fpp[i,j]\n",
    "            fmm[i,j] = fun(theta - h[i] - h[j], *args)\n",
    "            fmm[j,i] = fmm[i,j]\n",
    "\n",
    "    hh = (diag(h))\n",
    "    hh = hh.reshape((K,1))\n",
    "    hh = hh @ hh.T\n",
    "\n",
    "    H = zeros((K,K))\n",
    "    \n",
    "    for i in range(K):\n",
    "        for j in range(i,K):\n",
    "            H[i,j] = (fpp[i,j] - fp[i] - fp[j] + f + f - fm[i] - fm[j] + fmm[i,j])/hh[i,j]/2\n",
    "            H[j,i] = H[i,j]\n",
    "\n",
    "    return H"
   ]
  },
  {
   "cell_type": "code",
   "execution_count": 120,
   "metadata": {},
   "outputs": [
    {
     "data": {
      "text/html": [
       "<div>\n",
       "<style scoped>\n",
       "    .dataframe tbody tr th:only-of-type {\n",
       "        vertical-align: middle;\n",
       "    }\n",
       "\n",
       "    .dataframe tbody tr th {\n",
       "        vertical-align: top;\n",
       "    }\n",
       "\n",
       "    .dataframe thead th {\n",
       "        text-align: right;\n",
       "    }\n",
       "</style>\n",
       "<table border=\"1\" class=\"dataframe\">\n",
       "  <thead>\n",
       "    <tr style=\"text-align: right;\">\n",
       "      <th></th>\n",
       "      <th>spindx</th>\n",
       "    </tr>\n",
       "    <tr>\n",
       "      <th>DATE</th>\n",
       "      <th></th>\n",
       "    </tr>\n",
       "  </thead>\n",
       "  <tbody>\n",
       "    <tr>\n",
       "      <th>2008-03-31</th>\n",
       "      <td>1322.70</td>\n",
       "    </tr>\n",
       "    <tr>\n",
       "      <th>2008-03-28</th>\n",
       "      <td>1315.22</td>\n",
       "    </tr>\n",
       "    <tr>\n",
       "      <th>2008-03-27</th>\n",
       "      <td>1325.76</td>\n",
       "    </tr>\n",
       "    <tr>\n",
       "      <th>2008-03-26</th>\n",
       "      <td>1341.13</td>\n",
       "    </tr>\n",
       "    <tr>\n",
       "      <th>2008-03-25</th>\n",
       "      <td>1352.99</td>\n",
       "    </tr>\n",
       "  </tbody>\n",
       "</table>\n",
       "</div>"
      ],
      "text/plain": [
       "             spindx\n",
       "DATE               \n",
       "2008-03-31  1322.70\n",
       "2008-03-28  1315.22\n",
       "2008-03-27  1325.76\n",
       "2008-03-26  1341.13\n",
       "2008-03-25  1352.99"
      ]
     },
     "execution_count": 120,
     "metadata": {},
     "output_type": "execute_result"
    }
   ],
   "source": [
    "SP = pd.read_csv('S&P_data.csv', parse_dates=[0])\n",
    "SP.index = SP.pop('DATE')\n",
    "SP = SP.iloc[::-1]\n",
    "SPprice = SP['spindx']\n",
    "SPreturn = 100 * -SPprice.pct_change().dropna()\n",
    "SP.head()"
   ]
  },
  {
   "cell_type": "code",
   "execution_count": 121,
   "metadata": {},
   "outputs": [],
   "source": [
    "startingVals = array([SPreturn.mean(), SPreturn.var() * .01, .03, .09, .90]) "
   ]
  },
  {
   "cell_type": "code",
   "execution_count": 122,
   "metadata": {},
   "outputs": [
    {
     "name": "stdout",
     "output_type": "stream",
     "text": [
      "Optimization terminated successfully.    (Exit mode 0)\n",
      "            Current function value: 4569.826398747924\n",
      "            Iterations: 17\n",
      "            Function evaluations: 137\n",
      "            Gradient evaluations: 16\n"
     ]
    }
   ],
   "source": [
    "finfo = np.finfo(np.float64) \n",
    "bounds = [(-10*SPreturn.mean(), 10*SPreturn.mean()), (finfo.eps, 2*SPreturn.var() ), (0.0,1.0), (0.0,1.0), (0.0,1.0)]\n",
    "\n",
    "T = SPreturn.shape[0]\n",
    "sigma2 = np.ones(T) * SPreturn.var()\n",
    "\n",
    "args = (np.asarray(SPreturn), sigma2)\n",
    "estimates = fmin_slsqp(GJR_GARCH_likelihood, startingVals, f_ieqcons = GJR_constraint, bounds = bounds, args = args)"
   ]
  },
  {
   "cell_type": "code",
   "execution_count": 123,
   "metadata": {},
   "outputs": [],
   "source": [
    "loglik, logliks, sigma2final = GJR_GARCH_likelihood(estimates, SPreturn, sigma2, out=True)"
   ]
  },
  {
   "cell_type": "code",
   "execution_count": 124,
   "metadata": {},
   "outputs": [],
   "source": [
    "step = .00001 * estimates \n",
    "scores = zeros((T,5))\n",
    "for i in range(5):\n",
    "    h = step[i]\n",
    "    delta = np.zeros(5)\n",
    "    delta[i] = h\n",
    "\n",
    "    loglik, logliksplus, sigma2 = GJR_GARCH_likelihood(estimates + delta, np.asarray(SPreturn), sigma2, out=True)\n",
    "    loglik, logliksminus, sigma2 = GJR_GARCH_likelihood(estimates - delta, np.asarray(SPreturn), sigma2, out=True)\n",
    "\n",
    "    scores[:,i] = (logliksplus - logliksminus)/(2*h)\n",
    "\n",
    "I = (scores.T @ scores)/T"
   ]
  },
  {
   "cell_type": "code",
   "execution_count": 125,
   "metadata": {},
   "outputs": [],
   "source": [
    "J = hessian_2sided(GJR_GARCH_likelihood, estimates, args)\n",
    "J = J/T + 0.0000000000001*np.random.rand()\n",
    "Jinv = mat(inv(J))\n",
    "vcv = Jinv*mat(I)*Jinv/T\n",
    "vcv = asarray(vcv)"
   ]
  },
  {
   "cell_type": "code",
   "execution_count": 126,
   "metadata": {},
   "outputs": [
    {
     "name": "stdout",
     "output_type": "stream",
     "text": [
      "Parameter Estimate Std. Err. T-stat\n",
      "mu          0.064261 0.124277  0.51708\n",
      "omega       0.006713 0.002674  2.51051\n",
      "alpha       0.073713 0.016070  4.58685\n",
      "gamma       0.000000 3080080081431.551758  0.00000\n",
      "beta        0.922162 0.014459  63.77981\n"
     ]
    }
   ],
   "source": [
    "output = np.vstack((estimates,sqrt(diag(vcv)),estimates/sqrt(diag(vcv)))).T \n",
    "print('Parameter Estimate Std. Err. T-stat')\n",
    "param = ['mu','omega','alpha', 'gamma', 'beta']\n",
    "for i in range(len(param)):\n",
    "    print('{0:<11} {1:>0.6f} {2:0.6f} {3: 0.5f}'.format(param[i], output[i,0], output[i,1], output[i,2]))"
   ]
  },
  {
   "cell_type": "code",
   "execution_count": 127,
   "metadata": {},
   "outputs": [
    {
     "data": {
      "image/png": "[encoded data removed]",
      "text/plain": [
       "<Figure size 432x288 with 1 Axes>"
      ]
     },
     "metadata": {},
     "output_type": "display_data"
    }
   ],
   "source": [
    "dates = SP.index[1:]\n",
    "fig = plt.figure()\n",
    "ax = fig.add_subplot(111)\n",
    "volatility = pd.DataFrame(np.sqrt(252 * sigma2))#, index=dates)\n",
    "ax.plot(volatility.index,volatility)\n",
    "#ax.autoscale(tight='x')\n",
    "fig.autofmt_xdate()\n",
    "fig.tight_layout(pad=1.5)\n",
    "ax.set_ylabel('Volatility')\n",
    "ax.set_title('SP Volatility (GJR_GARCH(1,1,1))')\n",
    "plt.show()"
   ]
  },
  {
   "cell_type": "code",
   "execution_count": 137,
   "metadata": {},
   "outputs": [],
   "source": [
    "mu = output[0,0]\n",
    "omega = output[1,0]\n",
    "alpha = output[2,0]\n",
    "gamma = output[3,0]\n",
    "beta = output[4,0]"
   ]
  },
  {
   "cell_type": "code",
   "execution_count": 135,
   "metadata": {},
   "outputs": [
    {
     "data": {
      "text/plain": [
       "0.06426060061407185"
      ]
     },
     "execution_count": 135,
     "metadata": {},
     "output_type": "execute_result"
    }
   ],
   "source": []
  },
  {
   "cell_type": "code",
   "execution_count": null,
   "metadata": {},
   "outputs": [],
   "source": []
  }
 ],
 "metadata": {
  "kernelspec": {
   "display_name": "Python 3",
   "language": "python",
   "name": "python3"
  },
  "language_info": {
   "codemirror_mode": {
    "name": "ipython",
    "version": 3
   },
   "file_extension": ".py",
   "mimetype": "text/x-python",
   "name": "python",
   "nbconvert_exporter": "python",
   "pygments_lexer": "ipython3",
   "version": "3.6.5"
  }
 },
 "nbformat": 4,
 "nbformat_minor": 2
}
