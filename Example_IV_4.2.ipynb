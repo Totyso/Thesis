{
 "cells": [
  {
   "cell_type": "code",
   "execution_count": 2,
   "metadata": {},
   "outputs": [],
   "source": [
    "import numpy as np"
   ]
  },
  {
   "cell_type": "code",
   "execution_count": 3,
   "metadata": {},
   "outputs": [],
   "source": [
    "m = 127\n",
    "c = 3\n",
    "x_0 = 1\n",
    "n = 35"
   ]
  },
  {
   "cell_type": "code",
   "execution_count": 4,
   "metadata": {},
   "outputs": [],
   "source": [
    "iteration = np.empty(n)\n",
    "iteration[0] = x_0\n",
    "for i in range(1, n):\n",
    "    iteration[i] = iteration[i-1] * c"
   ]
  },
  {
   "cell_type": "code",
   "execution_count": 5,
   "metadata": {},
   "outputs": [],
   "source": [
    "x = np.empty(n)\n",
    "for i in range(n):\n",
    "    x[i] = iteration[i] - m * (int(iteration[i] / m))"
   ]
  },
  {
   "cell_type": "code",
   "execution_count": 6,
   "metadata": {},
   "outputs": [],
   "source": [
    "u = np.empty(n)\n",
    "for i in range(n):\n",
    "    u[i] = x[i] / m"
   ]
  },
  {
   "cell_type": "code",
   "execution_count": 7,
   "metadata": {},
   "outputs": [
    {
     "data": {
      "text/plain": [
       "array([0.00787402, 0.02362205, 0.07086614, 0.21259843, 0.63779528,\n",
       "       0.91338583, 0.74015748, 0.22047244, 0.66141732, 0.98425197,\n",
       "       0.95275591, 0.85826772, 0.57480315, 0.72440945, 0.17322835,\n",
       "       0.51968504, 0.55905512, 0.67716535, 0.03149606, 0.09448819,\n",
       "       0.28346457, 0.8503937 , 0.5511811 , 0.65354331, 0.96062992,\n",
       "       0.88188976, 0.64566929, 0.93700787, 0.81102362, 0.43307087,\n",
       "       0.2992126 , 0.8976378 , 0.69291339, 0.07874016, 0.22047244])"
      ]
     },
     "execution_count": 7,
     "metadata": {},
     "output_type": "execute_result"
    }
   ],
   "source": [
    "u"
   ]
  },
  {
   "cell_type": "code",
   "execution_count": null,
   "metadata": {},
   "outputs": [],
   "source": []
  }
 ],
 "metadata": {
  "kernelspec": {
   "display_name": "Python 3",
   "language": "python",
   "name": "python3"
  },
  "language_info": {
   "codemirror_mode": {
    "name": "ipython",
    "version": 3
   },
   "file_extension": ".py",
   "mimetype": "text/x-python",
   "name": "python",
   "nbconvert_exporter": "python",
   "pygments_lexer": "ipython3",
   "version": "3.6.5"
  }
 },
 "nbformat": 4,
 "nbformat_minor": 2
}
