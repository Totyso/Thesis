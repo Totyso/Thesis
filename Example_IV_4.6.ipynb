{
 "cells": [
  {
   "cell_type": "code",
   "execution_count": 73,
   "metadata": {},
   "outputs": [],
   "source": [
    "import numpy as np\n",
    "import random\n",
    "from scipy.stats import norm"
   ]
  },
  {
   "cell_type": "code",
   "execution_count": 138,
   "metadata": {},
   "outputs": [],
   "source": [
    "volatility_annual = 0.25\n",
    "volatility_daily = volatility_annual/np.sqrt(250)\n",
    "current_return = 0.1\n",
    "Lambda = 0.9\n",
    "significance_level = [0.1, 1, 5, 10]"
   ]
  },
  {
   "cell_type": "code",
   "execution_count": 139,
   "metadata": {},
   "outputs": [],
   "source": [
    "n = 10000\n",
    "sim_1 = np.empty(n)\n",
    "for i in range(n):\n",
    "    sim_1[i] = norm.ppf(random.uniform(0,1))\n",
    "sim_2 = np.empty(n)\n",
    "for i in range(n):\n",
    "    sim_2[i] = norm.ppf(random.uniform(0,1))\n",
    "sim_3 = np.empty(n)\n",
    "for i in range(n):\n",
    "    sim_3[i] = norm.ppf(random.uniform(0,1))\n",
    "sim_4 = np.empty(n)\n",
    "for i in range(n):\n",
    "    sim_4[i] = norm.ppf(random.uniform(0,1))\n",
    "sim_5 = np.empty(n)\n",
    "for i in range(n):\n",
    "    sim_5[i] = norm.ppf(random.uniform(0,1))\n",
    "sim_6 = np.empty(n)\n",
    "for i in range(n):\n",
    "    sim_6[i] = norm.ppf(random.uniform(0,1))\n",
    "sim_7 = np.empty(n)\n",
    "for i in range(n):\n",
    "    sim_7[i] = norm.ppf(random.uniform(0,1))\n",
    "sim_8 = np.empty(n)\n",
    "for i in range(n):\n",
    "    sim_8[i] = norm.ppf(random.uniform(0,1))\n",
    "sim_9 = np.empty(n)\n",
    "for i in range(n):\n",
    "    sim_9[i] = norm.ppf(random.uniform(0,1))\n",
    "sim_10 = np.empty(n)\n",
    "for i in range(n):\n",
    "    sim_10[i] = norm.ppf(random.uniform(0,1))"
   ]
  },
  {
   "cell_type": "code",
   "execution_count": 140,
   "metadata": {},
   "outputs": [],
   "source": [
    "sim_1_constant_vol = np.empty(n)\n",
    "for i in range(n):\n",
    "    sim_1_constant_vol[i] = sim_1[i] * volatility_daily\n",
    "sim_2_constant_vol = np.empty(n)\n",
    "for i in range(n):\n",
    "    sim_2_constant_vol[i] = sim_2[i] * volatility_daily\n",
    "sim_3_constant_vol = np.empty(n)\n",
    "for i in range(n):\n",
    "    sim_3_constant_vol[i] = sim_3[i] * volatility_daily\n",
    "sim_4_constant_vol = np.empty(n)\n",
    "for i in range(n):\n",
    "    sim_4_constant_vol[i] = sim_4[i] * volatility_daily\n",
    "sim_5_constant_vol = np.empty(n)\n",
    "for i in range(n):\n",
    "    sim_5_constant_vol[i] = sim_5[i] * volatility_daily\n",
    "sim_6_constant_vol = np.empty(n)\n",
    "for i in range(n):\n",
    "    sim_6_constant_vol[i] = sim_6[i] * volatility_daily\n",
    "sim_7_constant_vol = np.empty(n)\n",
    "for i in range(n):\n",
    "    sim_7_constant_vol[i] = sim_7[i] * volatility_daily\n",
    "sim_8_constant_vol = np.empty(n)\n",
    "for i in range(n):\n",
    "    sim_8_constant_vol[i] = sim_8[i] * volatility_daily\n",
    "sim_9_constant_vol = np.empty(n)\n",
    "for i in range(n):\n",
    "    sim_9_constant_vol[i] = sim_9[i] * volatility_daily\n",
    "sim_10_constant_vol = np.empty(n)\n",
    "for i in range(n):\n",
    "    sim_10_constant_vol[i] = sim_10[i] * volatility_daily"
   ]
  },
  {
   "cell_type": "code",
   "execution_count": 141,
   "metadata": {},
   "outputs": [],
   "source": [
    "ten_day_log_return_constant_vol = np.empty(n)\n",
    "for i in range(n):\n",
    "    ten_day_log_return_constant_vol[i] = sim_1_constant_vol[i] + sim_2_constant_vol[i] + sim_3_constant_vol[i] + sim_4_constant_vol[i] + sim_5_constant_vol[i] + sim_6_constant_vol[i] + sim_7_constant_vol[i] + sim_8_constant_vol[i] + sim_9_constant_vol[i] + sim_10_constant_vol[i] "
   ]
  },
  {
   "cell_type": "code",
   "execution_count": 142,
   "metadata": {},
   "outputs": [],
   "source": [
    "sim_1_EWMA = np.empty(n)\n",
    "for i in range(n):\n",
    "    sim_1_EWMA[i] = (1-Lambda) * (current_return ** 2) + (Lambda * (volatility_daily ** 2))"
   ]
  },
  {
   "cell_type": "code",
   "execution_count": 143,
   "metadata": {},
   "outputs": [],
   "source": [
    "sim_1_EWMA_vol = np.empty(n)\n",
    "for i in range(n):\n",
    "    sim_1_EWMA_vol[i] = sim_1[i] * np.sqrt(sim_1_EWMA[i])"
   ]
  },
  {
   "cell_type": "code",
   "execution_count": 144,
   "metadata": {},
   "outputs": [],
   "source": [
    "sim_2_EWMA = np.empty(n)\n",
    "for i in range(n):\n",
    "    sim_2_EWMA[i] = (1-Lambda) * (sim_1_EWMA_vol[i] ** 2) + (Lambda * sim_1_EWMA[i])"
   ]
  },
  {
   "cell_type": "code",
   "execution_count": 145,
   "metadata": {},
   "outputs": [],
   "source": [
    "sim_2_EWMA_vol = np.empty(n)\n",
    "for i in range(n):\n",
    "    sim_2_EWMA_vol[i] = sim_2[i] * np.sqrt(sim_2_EWMA[i])"
   ]
  },
  {
   "cell_type": "code",
   "execution_count": 146,
   "metadata": {},
   "outputs": [],
   "source": [
    "sim_3_EWMA = np.empty(n)\n",
    "for i in range(n):\n",
    "    sim_3_EWMA[i] = (1-Lambda) * (sim_2_EWMA_vol[i] ** 2) + (Lambda * sim_2_EWMA[i])"
   ]
  },
  {
   "cell_type": "code",
   "execution_count": 147,
   "metadata": {},
   "outputs": [],
   "source": [
    "sim_3_EWMA_vol = np.empty(n)\n",
    "for i in range(n):\n",
    "    sim_3_EWMA_vol[i] = sim_3[i] * np.sqrt(sim_3_EWMA[i])"
   ]
  },
  {
   "cell_type": "code",
   "execution_count": 148,
   "metadata": {},
   "outputs": [],
   "source": [
    "sim_4_EWMA = np.empty(n)\n",
    "for i in range(n):\n",
    "    sim_4_EWMA[i] = (1-Lambda) * (sim_3_EWMA_vol[i] ** 2) + (Lambda * sim_3_EWMA[i])"
   ]
  },
  {
   "cell_type": "code",
   "execution_count": 149,
   "metadata": {},
   "outputs": [],
   "source": [
    "sim_4_EWMA_vol = np.empty(n)\n",
    "for i in range(n):\n",
    "    sim_4_EWMA_vol[i] = sim_4[i] * np.sqrt(sim_4_EWMA[i])"
   ]
  },
  {
   "cell_type": "code",
   "execution_count": 150,
   "metadata": {},
   "outputs": [],
   "source": [
    "sim_5_EWMA = np.empty(n)\n",
    "for i in range(n):\n",
    "    sim_5_EWMA[i] = (1-Lambda) * (sim_4_EWMA_vol[i] ** 2) + (Lambda * sim_4_EWMA[i])"
   ]
  },
  {
   "cell_type": "code",
   "execution_count": 151,
   "metadata": {},
   "outputs": [],
   "source": [
    "sim_5_EWMA_vol = np.empty(n)\n",
    "for i in range(n):\n",
    "    sim_5_EWMA_vol[i] = sim_5[i] * np.sqrt(sim_5_EWMA[i])"
   ]
  },
  {
   "cell_type": "code",
   "execution_count": 152,
   "metadata": {},
   "outputs": [],
   "source": [
    "sim_6_EWMA = np.empty(n)\n",
    "for i in range(n):\n",
    "    sim_6_EWMA[i] = (1-Lambda) * (sim_5_EWMA_vol[i] ** 2) + (Lambda * sim_5_EWMA[i])"
   ]
  },
  {
   "cell_type": "code",
   "execution_count": 153,
   "metadata": {},
   "outputs": [],
   "source": [
    "sim_6_EWMA_vol = np.empty(n)\n",
    "for i in range(n):\n",
    "    sim_6_EWMA_vol[i] = sim_6[i] * np.sqrt(sim_6_EWMA[i])"
   ]
  },
  {
   "cell_type": "code",
   "execution_count": 154,
   "metadata": {},
   "outputs": [],
   "source": [
    "sim_7_EWMA = np.empty(n)\n",
    "for i in range(n):\n",
    "    sim_7_EWMA[i] = (1-Lambda) * (sim_6_EWMA_vol[i] ** 2) + (Lambda * sim_6_EWMA[i])"
   ]
  },
  {
   "cell_type": "code",
   "execution_count": 155,
   "metadata": {},
   "outputs": [],
   "source": [
    "sim_7_EWMA_vol = np.empty(n)\n",
    "for i in range(n):\n",
    "    sim_7_EWMA_vol[i] = sim_7[i] * np.sqrt(sim_7_EWMA[i])"
   ]
  },
  {
   "cell_type": "code",
   "execution_count": 156,
   "metadata": {},
   "outputs": [],
   "source": [
    "sim_8_EWMA = np.empty(n)\n",
    "for i in range(n):\n",
    "    sim_8_EWMA[i] = (1-Lambda) * (sim_7_EWMA_vol[i] ** 2) + (Lambda * sim_7_EWMA[i])"
   ]
  },
  {
   "cell_type": "code",
   "execution_count": 157,
   "metadata": {},
   "outputs": [],
   "source": [
    "sim_8_EWMA_vol = np.empty(n)\n",
    "for i in range(n):\n",
    "    sim_8_EWMA_vol[i] = sim_8[i] * np.sqrt(sim_8_EWMA[i])"
   ]
  },
  {
   "cell_type": "code",
   "execution_count": 158,
   "metadata": {},
   "outputs": [],
   "source": [
    "sim_9_EWMA = np.empty(n)\n",
    "for i in range(n):\n",
    "    sim_9_EWMA[i] = (1-Lambda) * (sim_8_EWMA_vol[i] ** 2) + (Lambda * sim_8_EWMA[i])"
   ]
  },
  {
   "cell_type": "code",
   "execution_count": 159,
   "metadata": {},
   "outputs": [],
   "source": [
    "sim_9_EWMA_vol = np.empty(n)\n",
    "for i in range(n):\n",
    "    sim_9_EWMA_vol[i] = sim_9[i] * np.sqrt(sim_9_EWMA[i])"
   ]
  },
  {
   "cell_type": "code",
   "execution_count": 160,
   "metadata": {},
   "outputs": [],
   "source": [
    "sim_10_EWMA = np.empty(n)\n",
    "for i in range(n):\n",
    "    sim_10_EWMA[i] = (1-Lambda) * (sim_9_EWMA_vol[i] ** 2) + (Lambda * sim_9_EWMA[i])"
   ]
  },
  {
   "cell_type": "code",
   "execution_count": 161,
   "metadata": {},
   "outputs": [],
   "source": [
    "sim_10_EWMA_vol = np.empty(n)\n",
    "for i in range(n):\n",
    "    sim_10_EWMA_vol[i] = sim_10[i] * np.sqrt(sim_10_EWMA[i])"
   ]
  },
  {
   "cell_type": "code",
   "execution_count": 162,
   "metadata": {},
   "outputs": [],
   "source": [
    "ten_day_log_return_EWMA_vol = np.empty(n)\n",
    "for i in range(n):\n",
    "    ten_day_log_return_EWMA_vol[i] = sim_1_EWMA_vol[i] + sim_2_EWMA_vol[i] + sim_3_EWMA_vol[i] + sim_4_EWMA_vol[i] + sim_5_EWMA_vol[i] + sim_6_EWMA_vol[i] + sim_7_EWMA_vol[i] + sim_8_EWMA_vol[i] + sim_9_EWMA_vol[i] + sim_10_EWMA_vol[i]  "
   ]
  },
  {
   "cell_type": "code",
   "execution_count": 163,
   "metadata": {},
   "outputs": [],
   "source": [
    "constant_vol_VaR = np.empty(4)\n",
    "for i in range(4):\n",
    "    constant_vol_VaR[i] = -np.percentile(ten_day_log_return_constant_vol, significance_level[i])"
   ]
  },
  {
   "cell_type": "code",
   "execution_count": 164,
   "metadata": {},
   "outputs": [
    {
     "data": {
      "text/plain": [
       "array([0.14638278, 0.11601546, 0.08192125, 0.06357056])"
      ]
     },
     "execution_count": 164,
     "metadata": {},
     "output_type": "execute_result"
    }
   ],
   "source": [
    "constant_vol_VaR"
   ]
  },
  {
   "cell_type": "code",
   "execution_count": 165,
   "metadata": {},
   "outputs": [],
   "source": [
    "EWMA_vol_VaR = np.empty(4)\n",
    "for i in range(4):\n",
    "    EWMA_vol_VaR[i] = -np.percentile(ten_day_log_return_EWMA_vol, significance_level[i])"
   ]
  },
  {
   "cell_type": "code",
   "execution_count": 166,
   "metadata": {},
   "outputs": [
    {
     "data": {
      "text/plain": [
       "array([0.37305559, 0.27178827, 0.17929445, 0.13616212])"
      ]
     },
     "execution_count": 166,
     "metadata": {},
     "output_type": "execute_result"
    }
   ],
   "source": [
    "EWMA_vol_VaR"
   ]
  },
  {
   "cell_type": "code",
   "execution_count": null,
   "metadata": {},
   "outputs": [],
   "source": []
  }
 ],
 "metadata": {
  "kernelspec": {
   "display_name": "Python 3",
   "language": "python",
   "name": "python3"
  },
  "language_info": {
   "codemirror_mode": {
    "name": "ipython",
    "version": 3
   },
   "file_extension": ".py",
   "mimetype": "text/x-python",
   "name": "python",
   "nbconvert_exporter": "python",
   "pygments_lexer": "ipython3",
   "version": "3.6.5"
  }
 },
 "nbformat": 4,
 "nbformat_minor": 2
}
