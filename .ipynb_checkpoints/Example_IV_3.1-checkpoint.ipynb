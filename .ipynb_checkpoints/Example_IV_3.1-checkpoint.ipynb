{
 "cells": [
  {
   "cell_type": "code",
   "execution_count": 1,
   "metadata": {},
   "outputs": [],
   "source": [
    "import numpy as np\n",
    "import pandas as pd"
   ]
  },
  {
   "cell_type": "code",
   "execution_count": 2,
   "metadata": {},
   "outputs": [],
   "source": [
    "SP = pd.read_csv('S&P_data.csv', parse_dates=[0])\n",
    "SP = SP.loc[20:]\n",
    "SP.reset_index(inplace=True)"
   ]
  },
  {
   "cell_type": "markdown",
   "metadata": {},
   "source": [
    "__First Set__"
   ]
  },
  {
   "cell_type": "code",
   "execution_count": 5,
   "metadata": {},
   "outputs": [],
   "source": [
    "n = SP.shape[0]\n",
    "SP['Rtn'] = np.empty(n)\n",
    "\n",
    "for i in range(1, n):\n",
    "    SP.loc[i, 'Rtn'] = np.log(SP['spindx'][i] / SP['spindx'][i-1])\n",
    "    \n",
    "SP.loc[0, 'Rtn'] = np.mean(SP['Rtn'][1:])"
   ]
  },
  {
   "cell_type": "code",
   "execution_count": 6,
   "metadata": {},
   "outputs": [],
   "source": [
    "SP['(Rtn-Rbar)^2'] = np.empty(n)\n",
    "\n",
    "for i in range(0, n):\n",
    "    SP.loc[i, '(Rtn-Rbar)^2'] = (SP['Rtn'][i] - SP['Rtn'][0]) ** 2"
   ]
  },
  {
   "cell_type": "code",
   "execution_count": 8,
   "metadata": {},
   "outputs": [],
   "source": [
    "gamma = 0.00000102638439016707\n",
    "alpha = 0.067553161383582\n",
    "beta = 0.925509995984242\n",
    "alpha_beta = alpha + beta\n",
    "LT_vol = np.sqrt(250*(gamma)/(1-alpha_beta))"
   ]
  },
  {
   "cell_type": "code",
   "execution_count": 9,
   "metadata": {},
   "outputs": [],
   "source": [
    "SP['Cond Var'] = np.empty(n)\n",
    "SP.loc[0, 'Cond Var'] = SP['Rtn'][0] ** 2\n",
    "\n",
    "for i in range(1, n):\n",
    "    SP.loc[i, 'Cond Var'] = gamma + alpha * SP['(Rtn-Rbar)^2'][i-1] + beta * SP['Cond Var'][i-1]"
   ]
  },
  {
   "cell_type": "code",
   "execution_count": 10,
   "metadata": {},
   "outputs": [],
   "source": [
    "SP['Log L'] = np.empty(n)\n",
    "SP.loc[0, 'Log L'] = '--'\n",
    "\n",
    "for i in range(1, n):\n",
    "    SP.loc[i, 'Log L'] = -(np.log(np.sqrt(SP['Cond Var'][i])))-0.5*(SP['(Rtn-Rbar)^2'][i]/SP['Cond Var'][i])"
   ]
  },
  {
   "cell_type": "code",
   "execution_count": 11,
   "metadata": {},
   "outputs": [],
   "source": [
    "SP['GARCH vol'] = np.empty(n)\n",
    "SP.loc[0, 'GARCH vol'] = '--'\n",
    "\n",
    "for i in range(1, n):\n",
    "    SP.loc[i, 'GARCH vol'] = np.sqrt(SP['Cond Var'][i] * 250)"
   ]
  },
  {
   "cell_type": "code",
   "execution_count": 12,
   "metadata": {},
   "outputs": [
    {
     "data": {
      "text/plain": [
       "13848.676835779945"
      ]
     },
     "execution_count": 12,
     "metadata": {},
     "output_type": "execute_result"
    }
   ],
   "source": [
    "LogL = np.sum(SP['Log L'][1:])\n",
    "LogL"
   ]
  },
  {
   "cell_type": "markdown",
   "metadata": {},
   "source": [
    "__Second Set__"
   ]
  },
  {
   "cell_type": "code",
   "execution_count": 13,
   "metadata": {},
   "outputs": [],
   "source": [
    "SP_2 = pd.read_csv('S&P_data.csv', parse_dates=[0])\n",
    "SP_2 = SP_2.loc[20:]\n",
    "SP_2.reset_index(inplace=True)\n",
    "\n",
    "gamma = 0.000000360946440498536\n",
    "alpha = 0.0978672516991889\n",
    "beta = 0.898840462526082\n",
    "Lambda = 0.0037694281717221\n",
    "alpha_beta = alpha + beta\n",
    "LT_vol = np.sqrt(250*(gamma + (Lambda ** 2) * alpha) / (1 - alpha_beta))"
   ]
  },
  {
   "cell_type": "code",
   "execution_count": 14,
   "metadata": {},
   "outputs": [],
   "source": [
    "SP_2['(Rtn-Rbar-l)^2'] = np.empty(n)\n",
    "\n",
    "for i in range(0, n):\n",
    "    SP_2.loc[i, '(Rtn-Rbar-l)^2'] = (SP['Rtn'][i] - SP['Rtn'][0] - Lambda) ** 2"
   ]
  },
  {
   "cell_type": "code",
   "execution_count": 15,
   "metadata": {},
   "outputs": [],
   "source": [
    "SP_2['Cond Var'] = np.empty(n)\n",
    "SP_2.loc[0, 'Cond Var'] = SP['Rtn'][0] ** 2\n",
    "\n",
    "for i in range(1, n):\n",
    "    SP_2.loc[i, 'Cond Var'] = gamma + alpha * SP_2['(Rtn-Rbar-l)^2'][i-1] + beta * SP_2['Cond Var'][i-1]"
   ]
  },
  {
   "cell_type": "code",
   "execution_count": 16,
   "metadata": {},
   "outputs": [],
   "source": [
    "SP_2['Log L'] = np.empty(n)\n",
    "SP_2.loc[0, 'Log L'] = '--'\n",
    "\n",
    "for i in range(1, n):\n",
    "    SP_2.loc[i, 'Log L'] = -(np.log(np.sqrt(SP_2['Cond Var'][i])))-0.5*(SP['(Rtn-Rbar)^2'][i]/SP_2['Cond Var'][i])"
   ]
  },
  {
   "cell_type": "code",
   "execution_count": 17,
   "metadata": {},
   "outputs": [],
   "source": [
    "SP_2['AGARCH vol'] = np.empty(n)\n",
    "SP_2.loc[0, 'AGARCH vol'] = '--'\n",
    "\n",
    "for i in range(1, n):\n",
    "    SP_2.loc[i, 'AGARCH vol'] = np.sqrt(SP_2['Cond Var'][i] * 250)"
   ]
  },
  {
   "cell_type": "code",
   "execution_count": 18,
   "metadata": {},
   "outputs": [
    {
     "data": {
      "text/plain": [
       "13887.452857622384"
      ]
     },
     "execution_count": 18,
     "metadata": {},
     "output_type": "execute_result"
    }
   ],
   "source": [
    "LogL_2 = np.sum(SP_2['Log L'][1:])\n",
    "LogL_2"
   ]
  },
  {
   "cell_type": "markdown",
   "metadata": {},
   "source": [
    "__GARCH and AGARCH Returns__"
   ]
  },
  {
   "cell_type": "code",
   "execution_count": 19,
   "metadata": {},
   "outputs": [],
   "source": [
    "Returns = pd.read_csv('S&P_data.csv', parse_dates=[0])\n",
    "Returns = Returns.loc[20:]\n",
    "Returns.reset_index(inplace=True)"
   ]
  },
  {
   "cell_type": "code",
   "execution_count": 20,
   "metadata": {},
   "outputs": [],
   "source": [
    "Returns['GARCH Rtn'] = np.empty(n)\n",
    "Returns.loc[0, 'GARCH Rtn'] = SP['Rtn'][0]\n",
    "\n",
    "for i in range(1, n):\n",
    "    Returns.loc[i, 'GARCH Rtn'] = SP['Rtn'][i] * (SP['GARCH vol'][n-1] / SP['GARCH vol'][i])"
   ]
  },
  {
   "cell_type": "code",
   "execution_count": 21,
   "metadata": {},
   "outputs": [],
   "source": [
    "Returns['AGARCH Rtn'] = np.empty(n)\n",
    "Returns.loc[0, 'AGARCH Rtn'] = SP['Rtn'][0]\n",
    "\n",
    "for i in range(1, n):\n",
    "    Returns.loc[i, 'AGARCH Rtn'] = SP['Rtn'][i] * (SP_2['AGARCH vol'][n-1] / SP_2['AGARCH vol'][i])"
   ]
  },
  {
   "cell_type": "markdown",
   "metadata": {},
   "source": [
    "__Historical VaR Estimates, 31 March 2008__"
   ]
  },
  {
   "cell_type": "code",
   "execution_count": 22,
   "metadata": {},
   "outputs": [],
   "source": [
    "Quantiles = [0.10, 1, 5, 10]\n",
    "VaR = pd.DataFrame({'Quantile': ['0.10%', '1%', '5%', '10%'], 'Rtn': [0.0, 0.0, 0.0, 0.0], 'GARCH Rtn': [0.0, 0.0, 0.0, 0.0], \\\n",
    "                    'AGARCH Rtn': [0.0, 0.0, 0.0, 0.0]})"
   ]
  },
  {
   "cell_type": "code",
   "execution_count": 23,
   "metadata": {},
   "outputs": [],
   "source": [
    "for i in range(0, 4):\n",
    "    VaR.loc[i, 'Rtn'] = -np.percentile(SP['Rtn'], Quantiles[i])\n",
    "    \n",
    "for i in range(0, 4):\n",
    "    VaR.loc[i, 'GARCH Rtn'] = -np.percentile(Returns['GARCH Rtn'], Quantiles[i])\n",
    "    \n",
    "for i in range(0, 4):\n",
    "    VaR.loc[i, 'AGARCH Rtn'] = -np.percentile(Returns['AGARCH Rtn'], Quantiles[i])"
   ]
  },
  {
   "cell_type": "code",
   "execution_count": 24,
   "metadata": {},
   "outputs": [
    {
     "data": {
      "text/html": [
       "<div>\n",
       "<style scoped>\n",
       "    .dataframe tbody tr th:only-of-type {\n",
       "        vertical-align: middle;\n",
       "    }\n",
       "\n",
       "    .dataframe tbody tr th {\n",
       "        vertical-align: top;\n",
       "    }\n",
       "\n",
       "    .dataframe thead th {\n",
       "        text-align: right;\n",
       "    }\n",
       "</style>\n",
       "<table border=\"1\" class=\"dataframe\">\n",
       "  <thead>\n",
       "    <tr style=\"text-align: right;\">\n",
       "      <th></th>\n",
       "      <th>Quantile</th>\n",
       "      <th>Rtn</th>\n",
       "      <th>GARCH Rtn</th>\n",
       "      <th>AGARCH Rtn</th>\n",
       "    </tr>\n",
       "  </thead>\n",
       "  <tbody>\n",
       "    <tr>\n",
       "      <th>0</th>\n",
       "      <td>0.10%</td>\n",
       "      <td>0.048355</td>\n",
       "      <td>0.075500</td>\n",
       "      <td>0.070356</td>\n",
       "    </tr>\n",
       "    <tr>\n",
       "      <th>1</th>\n",
       "      <td>1%</td>\n",
       "      <td>0.028293</td>\n",
       "      <td>0.041105</td>\n",
       "      <td>0.042780</td>\n",
       "    </tr>\n",
       "    <tr>\n",
       "      <th>2</th>\n",
       "      <td>5%</td>\n",
       "      <td>0.017755</td>\n",
       "      <td>0.026568</td>\n",
       "      <td>0.027946</td>\n",
       "    </tr>\n",
       "    <tr>\n",
       "      <th>3</th>\n",
       "      <td>10%</td>\n",
       "      <td>0.012714</td>\n",
       "      <td>0.020448</td>\n",
       "      <td>0.021110</td>\n",
       "    </tr>\n",
       "  </tbody>\n",
       "</table>\n",
       "</div>"
      ],
      "text/plain": [
       "  Quantile       Rtn  GARCH Rtn  AGARCH Rtn\n",
       "0    0.10%  0.048355   0.075500    0.070356\n",
       "1       1%  0.028293   0.041105    0.042780\n",
       "2       5%  0.017755   0.026568    0.027946\n",
       "3      10%  0.012714   0.020448    0.021110"
      ]
     },
     "execution_count": 24,
     "metadata": {},
     "output_type": "execute_result"
    }
   ],
   "source": [
    "VaR"
   ]
  },
  {
   "cell_type": "code",
   "execution_count": 25,
   "metadata": {},
   "outputs": [],
   "source": [
    "gamma = 0.00000102638439016707\n",
    "alpha = 0.067553161383582\n",
    "beta = 0.925509995984242"
   ]
  },
  {
   "cell_type": "code",
   "execution_count": 26,
   "metadata": {},
   "outputs": [
    {
     "name": "stdout",
     "output_type": "stream",
     "text": [
      "Stored 'SP' (DataFrame)\n",
      "Stored 'SP_2' (DataFrame)\n",
      "Stored 'Returns' (DataFrame)\n",
      "Stored 'VaR' (DataFrame)\n"
     ]
    }
   ],
   "source": [
    "%store SP\n",
    "%store SP_2\n",
    "%store Returns\n",
    "%store VaR"
   ]
  },
  {
   "cell_type": "code",
   "execution_count": null,
   "metadata": {},
   "outputs": [],
   "source": []
  }
 ],
 "metadata": {
  "kernelspec": {
   "display_name": "Python 3",
   "language": "python",
   "name": "python3"
  },
  "language_info": {
   "codemirror_mode": {
    "name": "ipython",
    "version": 3
   },
   "file_extension": ".py",
   "mimetype": "text/x-python",
   "name": "python",
   "nbconvert_exporter": "python",
   "pygments_lexer": "ipython3",
   "version": "3.6.5"
  }
 },
 "nbformat": 4,
 "nbformat_minor": 2
}
