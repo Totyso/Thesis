{
 "cells": [
  {
   "cell_type": "markdown",
   "metadata": {},
   "source": [
    "# __Brough Lecture Notes: GARCH Models in R__\n",
    "\n",
    "<br>\n",
    "\n",
    "Finance 5330: Financial Econometrics <br>\n",
    "Tyler J. Brough <br>\n",
    "Last Updated: April 1, 2019 <br>\n",
    "<br>\n",
    "<br>"
   ]
  },
  {
   "cell_type": "code",
   "execution_count": 1,
   "metadata": {},
   "outputs": [],
   "source": [
    "options(warn=-1)"
   ]
  },
  {
   "cell_type": "code",
   "execution_count": 2,
   "metadata": {},
   "outputs": [
    {
     "name": "stderr",
     "output_type": "stream",
     "text": [
      "Loading required package: bayesGARCH\n",
      "Loading required package: rugarch\n",
      "Loading required package: parallel\n",
      "\n",
      "Attaching package: 'rugarch'\n",
      "\n",
      "The following object is masked from 'package:stats':\n",
      "\n",
      "    sigma\n",
      "\n",
      "Loading required package: zoo\n",
      "\n",
      "Attaching package: 'zoo'\n",
      "\n",
      "The following objects are masked from 'package:base':\n",
      "\n",
      "    as.Date, as.Date.numeric\n",
      "\n"
     ]
    }
   ],
   "source": [
    "require(bayesGARCH)\n",
    "require(rugarch)\n",
    "require(zoo)"
   ]
  },
  {
   "cell_type": "code",
   "execution_count": 3,
   "metadata": {},
   "outputs": [],
   "source": [
    "ibm <- read.csv(\"S&P_data.csv\", header=T)\n",
    "ibm$RET <- (ibm$spindx[2:3355] - ibm$spindx) / ibm$spindx"
   ]
  },
  {
   "cell_type": "code",
   "execution_count": 4,
   "metadata": {},
   "outputs": [
    {
     "data": {
      "text/html": [
       "<table>\n",
       "<thead><tr><th scope=col>DATE</th><th scope=col>spindx</th><th scope=col>RET</th></tr></thead>\n",
       "<tbody>\n",
       "\t<tr><td>19941201     </td><td>448.92       </td><td> 9.756750e-03</td></tr>\n",
       "\t<tr><td>19941202     </td><td>453.30       </td><td> 6.618134e-05</td></tr>\n",
       "\t<tr><td>19941205     </td><td>453.33       </td><td>-4.852977e-04</td></tr>\n",
       "\t<tr><td>19941206     </td><td>453.11       </td><td>-4.149103e-03</td></tr>\n",
       "\t<tr><td>19941207     </td><td>451.23       </td><td>-1.280943e-02</td></tr>\n",
       "\t<tr><td>19941208     </td><td>445.45       </td><td> 3.412280e-03</td></tr>\n",
       "</tbody>\n",
       "</table>\n"
      ],
      "text/latex": [
       "\\begin{tabular}{r|lll}\n",
       " DATE & spindx & RET\\\\\n",
       "\\hline\n",
       "\t 19941201      & 448.92        &  9.756750e-03\\\\\n",
       "\t 19941202      & 453.30        &  6.618134e-05\\\\\n",
       "\t 19941205      & 453.33        & -4.852977e-04\\\\\n",
       "\t 19941206      & 453.11        & -4.149103e-03\\\\\n",
       "\t 19941207      & 451.23        & -1.280943e-02\\\\\n",
       "\t 19941208      & 445.45        &  3.412280e-03\\\\\n",
       "\\end{tabular}\n"
      ],
      "text/markdown": [
       "\n",
       "| DATE | spindx | RET |\n",
       "|---|---|---|\n",
       "| 19941201      | 448.92        |  9.756750e-03 |\n",
       "| 19941202      | 453.30        |  6.618134e-05 |\n",
       "| 19941205      | 453.33        | -4.852977e-04 |\n",
       "| 19941206      | 453.11        | -4.149103e-03 |\n",
       "| 19941207      | 451.23        | -1.280943e-02 |\n",
       "| 19941208      | 445.45        |  3.412280e-03 |\n",
       "\n"
      ],
      "text/plain": [
       "  DATE     spindx RET          \n",
       "1 19941201 448.92  9.756750e-03\n",
       "2 19941202 453.30  6.618134e-05\n",
       "3 19941205 453.33 -4.852977e-04\n",
       "4 19941206 453.11 -4.149103e-03\n",
       "5 19941207 451.23 -1.280943e-02\n",
       "6 19941208 445.45  3.412280e-03"
      ]
     },
     "metadata": {},
     "output_type": "display_data"
    }
   ],
   "source": [
    "head(ibm)"
   ]
  },
  {
   "cell_type": "code",
   "execution_count": 5,
   "metadata": {},
   "outputs": [
    {
     "data": {
      "text/html": [
       "<table>\n",
       "<thead><tr><th></th><th scope=col>DATE</th><th scope=col>spindx</th><th scope=col>RET</th></tr></thead>\n",
       "<tbody>\n",
       "\t<tr><th scope=row>3350</th><td>20080324    </td><td>1349.88     </td><td> 0.002303908</td></tr>\n",
       "\t<tr><th scope=row>3351</th><td>20080325    </td><td>1352.99     </td><td>-0.008765771</td></tr>\n",
       "\t<tr><th scope=row>3352</th><td>20080326    </td><td>1341.13     </td><td>-0.011460485</td></tr>\n",
       "\t<tr><th scope=row>3353</th><td>20080327    </td><td>1325.76     </td><td>-0.007950157</td></tr>\n",
       "\t<tr><th scope=row>3354</th><td>20080328    </td><td>1315.22     </td><td> 0.005687261</td></tr>\n",
       "\t<tr><th scope=row>3355</th><td>20080331    </td><td>1322.70     </td><td>-0.657291903</td></tr>\n",
       "</tbody>\n",
       "</table>\n"
      ],
      "text/latex": [
       "\\begin{tabular}{r|lll}\n",
       "  & DATE & spindx & RET\\\\\n",
       "\\hline\n",
       "\t3350 & 20080324     & 1349.88      &  0.002303908\\\\\n",
       "\t3351 & 20080325     & 1352.99      & -0.008765771\\\\\n",
       "\t3352 & 20080326     & 1341.13      & -0.011460485\\\\\n",
       "\t3353 & 20080327     & 1325.76      & -0.007950157\\\\\n",
       "\t3354 & 20080328     & 1315.22      &  0.005687261\\\\\n",
       "\t3355 & 20080331     & 1322.70      & -0.657291903\\\\\n",
       "\\end{tabular}\n"
      ],
      "text/markdown": [
       "\n",
       "| <!--/--> | DATE | spindx | RET |\n",
       "|---|---|---|---|\n",
       "| 3350 | 20080324     | 1349.88      |  0.002303908 |\n",
       "| 3351 | 20080325     | 1352.99      | -0.008765771 |\n",
       "| 3352 | 20080326     | 1341.13      | -0.011460485 |\n",
       "| 3353 | 20080327     | 1325.76      | -0.007950157 |\n",
       "| 3354 | 20080328     | 1315.22      |  0.005687261 |\n",
       "| 3355 | 20080331     | 1322.70      | -0.657291903 |\n",
       "\n"
      ],
      "text/plain": [
       "     DATE     spindx  RET         \n",
       "3350 20080324 1349.88  0.002303908\n",
       "3351 20080325 1352.99 -0.008765771\n",
       "3352 20080326 1341.13 -0.011460485\n",
       "3353 20080327 1325.76 -0.007950157\n",
       "3354 20080328 1315.22  0.005687261\n",
       "3355 20080331 1322.70 -0.657291903"
      ]
     },
     "metadata": {},
     "output_type": "display_data"
    }
   ],
   "source": [
    "tail(ibm)"
   ]
  },
  {
   "cell_type": "code",
   "execution_count": 6,
   "metadata": {},
   "outputs": [],
   "source": [
    "index <- as.Date(as.character(ibm$DATE), \"%Y%m%d\")\n",
    "ret <- zoo(ibm$RET, as.Date(as.character(ibm$DATE), \"%Y%m%d\"))"
   ]
  },
  {
   "cell_type": "code",
   "execution_count": 7,
   "metadata": {},
   "outputs": [
    {
     "data": {
      "image/png": "[encoded data removed]",
      "text/plain": [
       "Plot with title \"\""
      ]
     },
     "metadata": {},
     "output_type": "display_data"
    }
   ],
   "source": [
    "plot(ret)"
   ]
  },
  {
   "cell_type": "code",
   "execution_count": 8,
   "metadata": {},
   "outputs": [],
   "source": [
    "spec <- ugarchspec(mean.model = list(armaOrder = c(0,0), include.mean=FALSE))"
   ]
  },
  {
   "cell_type": "code",
   "execution_count": 19,
   "metadata": {},
   "outputs": [],
   "source": [
    "#help(ugarchfit)"
   ]
  },
  {
   "cell_type": "code",
   "execution_count": 20,
   "metadata": {},
   "outputs": [],
   "source": [
    "data <- zoo\n",
    "fit <- ugarchfit(data = ret, spec = spec, solver=\"hybrid\")"
   ]
  },
  {
   "cell_type": "code",
   "execution_count": 11,
   "metadata": {},
   "outputs": [
    {
     "data": {
      "text/plain": [
       "\n",
       "*---------------------------------*\n",
       "*          GARCH Model Fit        *\n",
       "*---------------------------------*\n",
       "\n",
       "Conditional Variance Dynamics \t\n",
       "-----------------------------------\n",
       "GARCH Model\t: sGARCH(1,1)\n",
       "Mean Model\t: ARFIMA(0,0,0)\n",
       "Distribution\t: norm \n",
       "\n",
       "Optimal Parameters\n",
       "------------------------------------\n",
       "        Estimate  Std. Error   t value Pr(>|t|)\n",
       "omega   0.000001    0.000000    3.0474 0.002309\n",
       "alpha1  0.076545    0.002297   33.3297 0.000000\n",
       "beta1   0.917168    0.000402 2280.8491 0.000000\n",
       "\n",
       "Robust Standard Errors:\n",
       "        Estimate  Std. Error    t value Pr(>|t|)\n",
       "omega   0.000001    0.000001    0.73253  0.46385\n",
       "alpha1  0.076545    0.002663   28.74074  0.00000\n",
       "beta1   0.917168    0.000646 1419.05445  0.00000\n",
       "\n",
       "LogLikelihood : 10791.13 \n",
       "\n",
       "Information Criteria\n",
       "------------------------------------\n",
       "                    \n",
       "Akaike       -6.4311\n",
       "Bayes        -6.4256\n",
       "Shibata      -6.4311\n",
       "Hannan-Quinn -6.4291\n",
       "\n",
       "Weighted Ljung-Box Test on Standardized Residuals\n",
       "------------------------------------\n",
       "                        statistic p-value\n",
       "Lag[1]                     0.1606  0.6886\n",
       "Lag[2*(p+q)+(p+q)-1][2]    0.2765  0.8090\n",
       "Lag[4*(p+q)+(p+q)-1][5]    1.0225  0.8546\n",
       "d.o.f=0\n",
       "H0 : No serial correlation\n",
       "\n",
       "Weighted Ljung-Box Test on Standardized Squared Residuals\n",
       "------------------------------------\n",
       "                        statistic p-value\n",
       "Lag[1]                   0.001283  0.9714\n",
       "Lag[2*(p+q)+(p+q)-1][5]  0.002429  1.0000\n",
       "Lag[4*(p+q)+(p+q)-1][9]  0.009999  1.0000\n",
       "d.o.f=2\n",
       "\n",
       "Weighted ARCH LM Tests\n",
       "------------------------------------\n",
       "            Statistic Shape Scale P-Value\n",
       "ARCH Lag[3] 0.0004658 0.500 2.000  0.9828\n",
       "ARCH Lag[5] 0.0016225 1.440 1.667  1.0000\n",
       "ARCH Lag[7] 0.0020821 2.315 1.543  1.0000\n",
       "\n",
       "Nyblom stability test\n",
       "------------------------------------\n",
       "Joint Statistic:  0.9893\n",
       "Individual Statistics:             \n",
       "omega  0.3850\n",
       "alpha1 0.1827\n",
       "beta1  0.1733\n",
       "\n",
       "Asymptotic Critical Values (10% 5% 1%)\n",
       "Joint Statistic:     \t 0.846 1.01 1.35\n",
       "Individual Statistic:\t 0.35 0.47 0.75\n",
       "\n",
       "Sign Bias Test\n",
       "------------------------------------\n",
       "                   t-value   prob sig\n",
       "Sign Bias          0.72901 0.4660    \n",
       "Negative Sign Bias 0.03298 0.9737    \n",
       "Positive Sign Bias 0.54951 0.5827    \n",
       "Joint Effect       0.71114 0.8706    \n",
       "\n",
       "\n",
       "Adjusted Pearson Goodness-of-Fit Test:\n",
       "------------------------------------\n",
       "  group statistic p-value(g-1)\n",
       "1    20     77.32    5.371e-09\n",
       "2    30     95.25    5.547e-09\n",
       "3    40    104.76    6.263e-08\n",
       "4    50    120.19    6.492e-08\n",
       "\n",
       "\n",
       "Elapsed time : 0.1746981 \n"
      ]
     },
     "metadata": {},
     "output_type": "display_data"
    }
   ],
   "source": [
    "fit"
   ]
  },
  {
   "cell_type": "code",
   "execution_count": 12,
   "metadata": {},
   "outputs": [
    {
     "data": {
      "image/png": "[encoded data removed]",
      "text/plain": [
       "plot without title"
      ]
     },
     "metadata": {},
     "output_type": "display_data"
    }
   ],
   "source": [
    "plot(sigma(fit))"
   ]
  },
  {
   "cell_type": "code",
   "execution_count": 18,
   "metadata": {},
   "outputs": [],
   "source": [
    "vals <- coef(fit)\n",
    "what <- coef(fit)[1]\n",
    "ahat <- coef(fit)[2]\n",
    "bhat <- coef(fit)[3]"
   ]
  },
  {
   "cell_type": "code",
   "execution_count": 14,
   "metadata": {},
   "outputs": [
    {
     "data": {
      "text/html": [
       "<strong>omega:</strong> 1.00953133409585e-06"
      ],
      "text/latex": [
       "\\textbf{omega:} 1.00953133409585e-06"
      ],
      "text/markdown": [
       "**omega:** 1.00953133409585e-06"
      ],
      "text/plain": [
       "       omega \n",
       "1.009531e-06 "
      ]
     },
     "metadata": {},
     "output_type": "display_data"
    }
   ],
   "source": [
    "what"
   ]
  },
  {
   "cell_type": "code",
   "execution_count": 36,
   "metadata": {},
   "outputs": [
    {
     "data": {
      "text/html": [
       "<strong>alpha1:</strong> 0.0765451294334868"
      ],
      "text/latex": [
       "\\textbf{alpha1:} 0.0765451294334868"
      ],
      "text/markdown": [
       "**alpha1:** 0.0765451294334868"
      ],
      "text/plain": [
       "    alpha1 \n",
       "0.07654513 "
      ]
     },
     "metadata": {},
     "output_type": "display_data"
    }
   ],
   "source": [
    "ahat"
   ]
  },
  {
   "cell_type": "code",
   "execution_count": 37,
   "metadata": {},
   "outputs": [
    {
     "data": {
      "text/html": [
       "<strong>beta1:</strong> 0.917167532735443"
      ],
      "text/latex": [
       "\\textbf{beta1:} 0.917167532735443"
      ],
      "text/markdown": [
       "**beta1:** 0.917167532735443"
      ],
      "text/plain": [
       "    beta1 \n",
       "0.9171675 "
      ]
     },
     "metadata": {},
     "output_type": "display_data"
    }
   ],
   "source": [
    "bhat"
   ]
  },
  {
   "cell_type": "code",
   "execution_count": null,
   "metadata": {},
   "outputs": [],
   "source": []
  },
  {
   "cell_type": "code",
   "execution_count": 38,
   "metadata": {},
   "outputs": [
    {
     "data": {
      "text/plain": [
       "1995-03-21 \n",
       "0.00121195 "
      ]
     },
     "metadata": {},
     "output_type": "display_data"
    }
   ],
   "source": [
    "ret[76]"
   ]
  },
  {
   "cell_type": "code",
   "execution_count": 38,
   "metadata": {},
   "outputs": [
    {
     "data": {
      "text/plain": [
       "1999-04-22 1999-10-21 2000-07-20 2000-10-18 2001-01-18 \n",
       "  0.131636  -0.149533   0.130435  -0.155420   0.120233 "
      ]
     },
     "metadata": {},
     "output_type": "display_data"
    }
   ],
   "source": [
    "ind <- (abs(ret) >= 0.12)\n",
    "ret[ind]"
   ]
  },
  {
   "cell_type": "code",
   "execution_count": 39,
   "metadata": {},
   "outputs": [],
   "source": [
    " ii <- 1:length(ret)"
   ]
  },
  {
   "cell_type": "code",
   "execution_count": 40,
   "metadata": {},
   "outputs": [
    {
     "data": {
      "text/html": [
       "<ol class=list-inline>\n",
       "\t<li>76</li>\n",
       "\t<li>203</li>\n",
       "\t<li>391</li>\n",
       "\t<li>454</li>\n",
       "\t<li>516</li>\n",
       "</ol>\n"
      ],
      "text/latex": [
       "\\begin{enumerate*}\n",
       "\\item 76\n",
       "\\item 203\n",
       "\\item 391\n",
       "\\item 454\n",
       "\\item 516\n",
       "\\end{enumerate*}\n"
      ],
      "text/markdown": [
       "1. 76\n",
       "2. 203\n",
       "3. 391\n",
       "4. 454\n",
       "5. 516\n",
       "\n",
       "\n"
      ],
      "text/plain": [
       "[1]  76 203 391 454 516"
      ]
     },
     "metadata": {},
     "output_type": "display_data"
    }
   ],
   "source": [
    "c(ii[ind])"
   ]
  },
  {
   "cell_type": "code",
   "execution_count": null,
   "metadata": {},
   "outputs": [],
   "source": []
  },
  {
   "cell_type": "code",
   "execution_count": null,
   "metadata": {},
   "outputs": [],
   "source": []
  },
  {
   "cell_type": "code",
   "execution_count": null,
   "metadata": {},
   "outputs": [],
   "source": []
  },
  {
   "cell_type": "code",
   "execution_count": 41,
   "metadata": {},
   "outputs": [],
   "source": [
    "spec2 <- ugarchspec(variance.model=list(model = \"gjrGARCH\", garchOrder=c(1,1,1)), mean.model=list(armaOrder=c(0,0), include.mean=F))"
   ]
  },
  {
   "cell_type": "code",
   "execution_count": 42,
   "metadata": {},
   "outputs": [],
   "source": [
    "fit2 <- ugarchfit(data=ret, spec=spec2, solver=\"hybrid\")"
   ]
  },
  {
   "cell_type": "code",
   "execution_count": 43,
   "metadata": {},
   "outputs": [
    {
     "data": {
      "text/plain": [
       "\n",
       "*---------------------------------*\n",
       "*          GARCH Model Fit        *\n",
       "*---------------------------------*\n",
       "\n",
       "Conditional Variance Dynamics \t\n",
       "-----------------------------------\n",
       "GARCH Model\t: gjrGARCH(1,1)\n",
       "Mean Model\t: ARFIMA(0,0,0)\n",
       "Distribution\t: norm \n",
       "\n",
       "Optimal Parameters\n",
       "------------------------------------\n",
       "        Estimate  Std. Error  t value Pr(>|t|)\n",
       "omega   0.000003    0.000003  0.79813 0.424797\n",
       "alpha1  0.003790    0.005563  0.68120 0.495745\n",
       "beta1   0.952995    0.010954 86.99594 0.000000\n",
       "gamma1  0.084431    0.016816  5.02100 0.000001\n",
       "\n",
       "Robust Standard Errors:\n",
       "        Estimate  Std. Error  t value Pr(>|t|)\n",
       "omega   0.000003    0.000014  0.18585  0.85256\n",
       "alpha1  0.003790    0.012459  0.30416  0.76101\n",
       "beta1   0.952995    0.039386 24.19621  0.00000\n",
       "gamma1  0.084431    0.051710  1.63277  0.10252\n",
       "\n",
       "LogLikelihood : 2944.735 \n",
       "\n",
       "Information Criteria\n",
       "------------------------------------\n",
       "                    \n",
       "Akaike       -4.6827\n",
       "Bayes        -4.6663\n",
       "Shibata      -4.6827\n",
       "Hannan-Quinn -4.6766\n",
       "\n",
       "Weighted Ljung-Box Test on Standardized Residuals\n",
       "------------------------------------\n",
       "                        statistic p-value\n",
       "Lag[1]                      1.283  0.2574\n",
       "Lag[2*(p+q)+(p+q)-1][2]     1.596  0.3395\n",
       "Lag[4*(p+q)+(p+q)-1][5]     3.864  0.2715\n",
       "d.o.f=0\n",
       "H0 : No serial correlation\n",
       "\n",
       "Weighted Ljung-Box Test on Standardized Squared Residuals\n",
       "------------------------------------\n",
       "                        statistic p-value\n",
       "Lag[1]                    0.09315  0.7602\n",
       "Lag[2*(p+q)+(p+q)-1][5]   1.47440  0.7462\n",
       "Lag[4*(p+q)+(p+q)-1][9]   2.83436  0.7860\n",
       "d.o.f=2\n",
       "\n",
       "Weighted ARCH LM Tests\n",
       "------------------------------------\n",
       "            Statistic Shape Scale P-Value\n",
       "ARCH Lag[3]     1.150 0.500 2.000  0.2835\n",
       "ARCH Lag[5]     2.642 1.440 1.667  0.3460\n",
       "ARCH Lag[7]     3.168 2.315 1.543  0.4825\n",
       "\n",
       "Nyblom stability test\n",
       "------------------------------------\n",
       "Joint Statistic:  4.6317\n",
       "Individual Statistics:             \n",
       "omega  0.3393\n",
       "alpha1 0.7642\n",
       "beta1  0.7844\n",
       "gamma1 0.6561\n",
       "\n",
       "Asymptotic Critical Values (10% 5% 1%)\n",
       "Joint Statistic:     \t 1.07 1.24 1.6\n",
       "Individual Statistic:\t 0.35 0.47 0.75\n",
       "\n",
       "Sign Bias Test\n",
       "------------------------------------\n",
       "                   t-value   prob sig\n",
       "Sign Bias          0.20715 0.8359    \n",
       "Negative Sign Bias 0.30854 0.7577    \n",
       "Positive Sign Bias 0.04102 0.9673    \n",
       "Joint Effect       0.40646 0.9389    \n",
       "\n",
       "\n",
       "Adjusted Pearson Goodness-of-Fit Test:\n",
       "------------------------------------\n",
       "  group statistic p-value(g-1)\n",
       "1    20     33.17      0.02296\n",
       "2    30     47.90      0.01505\n",
       "3    40     56.55      0.03424\n",
       "4    50     68.84      0.03222\n",
       "\n",
       "\n",
       "Elapsed time : 0.259306 \n"
      ]
     },
     "metadata": {},
     "output_type": "display_data"
    }
   ],
   "source": [
    "fit2"
   ]
  }
 ],
 "metadata": {
  "kernelspec": {
   "display_name": "R",
   "language": "R",
   "name": "ir"
  },
  "language_info": {
   "codemirror_mode": "r",
   "file_extension": ".r",
   "mimetype": "text/x-r-source",
   "name": "R",
   "pygments_lexer": "r",
   "version": "3.5.3"
  }
 },
 "nbformat": 4,
 "nbformat_minor": 2
}
