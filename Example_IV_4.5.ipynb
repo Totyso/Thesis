{
 "cells": [
  {
   "cell_type": "code",
   "execution_count": 2,
   "metadata": {},
   "outputs": [],
   "source": [
    "import numpy as np\n",
    "import random"
   ]
  },
  {
   "cell_type": "code",
   "execution_count": 4,
   "metadata": {},
   "outputs": [],
   "source": [
    "m_0 = 31\n",
    "c_0 = 3\n",
    "x_00 = 1\n",
    "n = 30"
   ]
  },
  {
   "cell_type": "code",
   "execution_count": 308,
   "metadata": {},
   "outputs": [],
   "source": [
    "iteration_0 = np.empty(n)\n",
    "iteration_0[0] = x_00\n",
    "for i in range(1, n):\n",
    "    iteration_0[i] = iteration_0[i-1] * c_0"
   ]
  },
  {
   "cell_type": "code",
   "execution_count": 309,
   "metadata": {},
   "outputs": [],
   "source": [
    "permutation_0 = np.empty(n)\n",
    "for i in range(n):\n",
    "    permutation_0[i] = iteration_0[i] - m_0 * (int(iteration_0[i] / m_0))"
   ]
  },
  {
   "cell_type": "code",
   "execution_count": 310,
   "metadata": {},
   "outputs": [],
   "source": [
    "m_1 = 17\n",
    "c_1 = 3\n",
    "x_01 = 1\n",
    "n = 30"
   ]
  },
  {
   "cell_type": "code",
   "execution_count": 311,
   "metadata": {},
   "outputs": [],
   "source": [
    "iteration_1 = np.empty(n)\n",
    "iteration_1[0] = x_01\n",
    "for i in range(1, n):\n",
    "    iteration_1[i] = iteration_1[i-1] * c_1"
   ]
  },
  {
   "cell_type": "code",
   "execution_count": 312,
   "metadata": {},
   "outputs": [],
   "source": [
    "permutation_1 = np.empty(n)\n",
    "for i in range(0, n-14):\n",
    "    permutation_1[i] = iteration_1[i] - m_1 * (int(iteration_1[i] / m_1))\n",
    "for i in range(n-14, n-8):\n",
    "    permutation_1[i] = permutation_1[i - 16] + 16\n",
    "for i in range(n-8, n-7):\n",
    "    permutation_1[i] = permutation_1[i - 15] + 16\n",
    "for i in range(n-7, n):\n",
    "    permutation_1[i] = permutation_1[i - 14] + 16"
   ]
  },
  {
   "cell_type": "code",
   "execution_count": 313,
   "metadata": {},
   "outputs": [
    {
     "data": {
      "text/plain": [
       "array([ 1.,  3.,  9., 10., 13.,  5., 15., 11., 16., 14.,  8.,  7.,  4.,\n",
       "       12.,  2.,  6., 17., 19., 25., 26., 29., 21., 27., 30., 24., 23.,\n",
       "       20., 28., 18., 22.])"
      ]
     },
     "execution_count": 313,
     "metadata": {},
     "output_type": "execute_result"
    }
   ],
   "source": [
    "permutation_1"
   ]
  },
  {
   "cell_type": "code",
   "execution_count": 22,
   "metadata": {},
   "outputs": [
    {
     "data": {
      "text/plain": [
       "array([0.08553115, 0.09349406, 0.03957581, 0.14140139, 0.03680971,\n",
       "       0.2747202 , 0.16907717, 0.23457352, 0.30597327, 0.30646375,\n",
       "       0.33498457, 0.44208602, 0.34316831, 0.45438164, 0.44520322,\n",
       "       0.53542896, 0.6608148 , 0.51978669, 0.66482108, 0.5102033 ,\n",
       "       0.66719571, 0.79048934, 0.69717014, 0.75183286, 0.71249324,\n",
       "       0.88227682, 0.98377507, 0.93266857, 0.91565244, 0.88759982])"
      ]
     },
     "execution_count": 22,
     "metadata": {},
     "output_type": "execute_result"
    }
   ],
   "source": [
    "u_1 = np.empty(n)\n",
    "for i in range(0, 5):\n",
    "    u_1[i] = (random.uniform(0,1))/6\n",
    "for i in range(5, 10):\n",
    "    u_1[i] = (random.uniform(0,1) + 1)/6\n",
    "for i in range(10, 15):\n",
    "    u_1[i] = (random.uniform(0,1) + 2)/6\n",
    "for i in range(15, 20):\n",
    "    u_1[i] = (random.uniform(0,1) + 3)/6\n",
    "for i in range(20, 25):\n",
    "    u_1[i] = (random.uniform(0,1) + 4)/6\n",
    "for i in range(25, n):\n",
    "    u_1[i] = (random.uniform(0,1) + 5)/6"
   ]
  },
  {
   "cell_type": "code",
   "execution_count": 315,
   "metadata": {},
   "outputs": [],
   "source": [
    "u_2 = np.empty(n)\n",
    "for i in range(0, 5):\n",
    "    u_2[i] = (random.uniform(0,1))/6\n",
    "for i in range(5, 10):\n",
    "    u_2[i] = (random.uniform(0,1) + 1)/6\n",
    "for i in range(10, 15):\n",
    "    u_2[i] = (random.uniform(0,1) + 2)/6\n",
    "for i in range(15, 20):\n",
    "    u_2[i] = (random.uniform(0,1) + 3)/6\n",
    "for i in range(20, 25):\n",
    "    u_2[i] = (random.uniform(0,1) + 4)/6\n",
    "for i in range(25, n):\n",
    "    u_2[i] = (random.uniform(0,1) + 5)/6"
   ]
  },
  {
   "cell_type": "code",
   "execution_count": 316,
   "metadata": {},
   "outputs": [],
   "source": [
    "u1_star = np.empty(n)\n",
    "for i in range(n):\n",
    "    u1_star[i] = u_1[int(permutation_0[i])-1]"
   ]
  },
  {
   "cell_type": "code",
   "execution_count": 317,
   "metadata": {},
   "outputs": [],
   "source": [
    "u2_star = np.empty(n)\n",
    "for i in range(n):\n",
    "    u2_star[i] = u_2[int(permutation_1[i])-1]"
   ]
  },
  {
   "cell_type": "code",
   "execution_count": 318,
   "metadata": {},
   "outputs": [
    {
     "data": {
      "text/plain": [
       "array([0.09661586, 0.02673494, 0.21705264, 0.92437118, 0.53439544,\n",
       "       0.85708906, 0.54012969, 0.55654599, 0.55969614, 0.98666117,\n",
       "       0.81578118, 0.43387691, 0.18035682, 0.71029848, 0.31900815,\n",
       "       0.83855383, 0.99010931, 0.71235229, 0.00604812, 0.37210675,\n",
       "       0.09726877, 0.35000894, 0.42215359, 0.48874684, 0.08780717,\n",
       "       0.18918327, 0.58270905, 0.79993215, 0.309156  , 0.79839533])"
      ]
     },
     "execution_count": 318,
     "metadata": {},
     "output_type": "execute_result"
    }
   ],
   "source": [
    "u1_star"
   ]
  },
  {
   "cell_type": "code",
   "execution_count": 319,
   "metadata": {},
   "outputs": [
    {
     "data": {
      "text/plain": [
       "array([0.10476445, 0.12541951, 0.19689044, 0.27854193, 0.34625461,\n",
       "       0.15203825, 0.47805064, 0.41276907, 0.58064316, 0.39101017,\n",
       "       0.17950508, 0.26656009, 0.05463858, 0.37522927, 0.10948266,\n",
       "       0.28263589, 0.62066914, 0.63215279, 0.76430405, 0.93062547,\n",
       "       0.84506709, 0.78354633, 0.93048036, 0.9436737 , 0.80255974,\n",
       "       0.74473802, 0.57570742, 0.8648663 , 0.60598781, 0.7305536 ])"
      ]
     },
     "execution_count": 319,
     "metadata": {},
     "output_type": "execute_result"
    }
   ],
   "source": [
    "u2_star"
   ]
  },
  {
   "cell_type": "code",
   "execution_count": null,
   "metadata": {},
   "outputs": [],
   "source": []
  }
 ],
 "metadata": {
  "kernelspec": {
   "display_name": "Python 3",
   "language": "python",
   "name": "python3"
  },
  "language_info": {
   "codemirror_mode": {
    "name": "ipython",
    "version": 3
   },
   "file_extension": ".py",
   "mimetype": "text/x-python",
   "name": "python",
   "nbconvert_exporter": "python",
   "pygments_lexer": "ipython3",
   "version": "3.6.5"
  }
 },
 "nbformat": 4,
 "nbformat_minor": 2
}
