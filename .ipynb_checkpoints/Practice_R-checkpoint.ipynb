{
 "cells": [
  {
   "cell_type": "markdown",
   "metadata": {},
   "source": [
    "__S&P 500 GARCH__"
   ]
  },
  {
   "cell_type": "code",
   "execution_count": 143,
   "metadata": {},
   "outputs": [],
   "source": [
    "require(rugarch)\n",
    "require(zoo)\n",
    "\n",
    "SP <- read.csv(\"S&P_data.csv\", header=T)\n",
    "SP$RET <- log(SP$spindx[2:3355]/SP$spindx)\n",
    "\n",
    "index <- as.Date(as.character(SP$DATE), \"%Y%m%d\")\n",
    "ret <- zoo(SP$RET, as.Date(as.character(SP$DATE), \"%Y%m%d\"))"
   ]
  },
  {
   "cell_type": "code",
   "execution_count": 144,
   "metadata": {},
   "outputs": [],
   "source": [
    "SP <- SP[abs(SP$RET) < 0.12,]"
   ]
  },
  {
   "cell_type": "code",
   "execution_count": 145,
   "metadata": {},
   "outputs": [],
   "source": [
    "spec <- ugarchspec(mean.model = list(armaOrder = c(0,0), include.mean=FALSE))\n",
    "\n",
    "data <- zoo\n",
    "fit <- ugarchfit(data = ret, spec = spec, solver=\"hybrid\")\n",
    "\n",
    "vals <- coef(fit)\n",
    "what <- coef(fit)[1]\n",
    "ahat <- coef(fit)[2]\n",
    "bhat <- coef(fit)[3]"
   ]
  },
  {
   "cell_type": "code",
   "execution_count": 154,
   "metadata": {},
   "outputs": [
    {
     "data": {
      "text/html": [
       "<strong>png:</strong> 2"
      ],
      "text/latex": [
       "\\textbf{png:} 2"
      ],
      "text/markdown": [
       "**png:** 2"
      ],
      "text/plain": [
       "png \n",
       "  2 "
      ]
     },
     "metadata": {},
     "output_type": "display_data"
    }
   ],
   "source": [
    "jpeg(file=\"plot.jpeg\")\n",
    "plot(ret, ylim = c(-.05, .05), main = 'S&P 500')\n",
    "dev.off()"
   ]
  },
  {
   "cell_type": "code",
   "execution_count": 133,
   "metadata": {},
   "outputs": [
    {
     "name": "stdout",
     "output_type": "stream",
     "text": [
      "       omega \n",
      "1.191562e-06 \n",
      "    alpha1 \n",
      "0.08305225 \n",
      "    beta1 \n",
      "0.9094939 \n"
     ]
    }
   ],
   "source": [
    "print(what)\n",
    "print(ahat)\n",
    "print(bhat)"
   ]
  },
  {
   "cell_type": "code",
   "execution_count": 136,
   "metadata": {},
   "outputs": [],
   "source": [
    "SP_GARCH_LogLik = 10782.81"
   ]
  },
  {
   "cell_type": "markdown",
   "metadata": {},
   "source": [
    "__S&P 500 GJR-GARCH__"
   ]
  },
  {
   "cell_type": "code",
   "execution_count": 138,
   "metadata": {},
   "outputs": [],
   "source": [
    "spec2 <- ugarchspec(variance.model=list(model = \"gjrGARCH\", garchOrder=c(1,1,1)), mean.model=list(armaOrder=c(0,0), include.mean=F))\n",
    "fit2 <- ugarchfit(data=ret, spec=spec2, solver=\"hybrid\")\n",
    "\n",
    "vals <- coef(fit2)\n",
    "what <- coef(fit2)[1]\n",
    "ahat <- coef(fit2)[2]\n",
    "bhat <- coef(fit2)[3]"
   ]
  },
  {
   "cell_type": "code",
   "execution_count": 139,
   "metadata": {},
   "outputs": [
    {
     "name": "stdout",
     "output_type": "stream",
     "text": [
      "       omega \n",
      "1.808114e-06 \n",
      "      alpha1 \n",
      "4.053369e-07 \n",
      "  beta1 \n",
      "0.90774 \n"
     ]
    }
   ],
   "source": [
    "print(what)\n",
    "print(ahat)\n",
    "print(bhat)"
   ]
  },
  {
   "cell_type": "code",
   "execution_count": 141,
   "metadata": {},
   "outputs": [],
   "source": [
    "SP_GJR_LogLik = 10850.99"
   ]
  },
  {
   "cell_type": "code",
   "execution_count": 142,
   "metadata": {},
   "outputs": [
    {
     "data": {
      "text/html": [
       "1.00632302711445"
      ],
      "text/latex": [
       "1.00632302711445"
      ],
      "text/markdown": [
       "1.00632302711445"
      ],
      "text/plain": [
       "[1] 1.006323"
      ]
     },
     "metadata": {},
     "output_type": "display_data"
    }
   ],
   "source": [
    "SP_GJR_LogLik/SP_GARCH_LogLik"
   ]
  },
  {
   "cell_type": "markdown",
   "metadata": {},
   "source": [
    "__IBM GARCH__"
   ]
  },
  {
   "cell_type": "code",
   "execution_count": 113,
   "metadata": {},
   "outputs": [],
   "source": [
    "require(rugarch)\n",
    "require(zoo)\n",
    "\n",
    "IBM <- read.csv(\"IBM-1999-2003.csv\", header=T)\n",
    "\n",
    "index <- as.Date(as.character(IBM$date), \"%Y%m%d\")\n",
    "ret <- zoo(IBM$RET, as.Date(as.character(IBM$date), \"%Y%m%d\"))"
   ]
  },
  {
   "cell_type": "code",
   "execution_count": 114,
   "metadata": {},
   "outputs": [],
   "source": [
    "IBM <- IBM[abs(IBM$RET) < 0.12,]"
   ]
  },
  {
   "cell_type": "code",
   "execution_count": 115,
   "metadata": {},
   "outputs": [],
   "source": [
    "index <- as.Date(as.character(IBM$date), \"%Y%m%d\")\n",
    "ret <- zoo(IBM$RET, as.Date(as.character(IBM$date), \"%Y%m%d\"))\n",
    "\n",
    "spec <- ugarchspec(mean.model = list(armaOrder = c(0,0), include.mean=FALSE))\n",
    "\n",
    "data <- zoo\n",
    "fit <- ugarchfit(data = ret, spec = spec, solver=\"hybrid\")\n",
    "\n",
    "vals <- coef(fit)\n",
    "what <- coef(fit)[1]\n",
    "ahat <- coef(fit)[2]\n",
    "bhat <- coef(fit)[3]"
   ]
  },
  {
   "cell_type": "code",
   "execution_count": 151,
   "metadata": {},
   "outputs": [
    {
     "data": {
      "image/png": "[encoded data removed]",
      "text/plain": [
       "Plot with title \"\""
      ]
     },
     "metadata": {},
     "output_type": "display_data"
    }
   ],
   "source": [
    "plot(ret)"
   ]
  },
  {
   "cell_type": "code",
   "execution_count": 118,
   "metadata": {},
   "outputs": [
    {
     "name": "stdout",
     "output_type": "stream",
     "text": [
      "       omega \n",
      "3.329828e-06 \n",
      "    alpha1 \n",
      "0.05654917 \n",
      "    beta1 \n",
      "0.9384645 \n"
     ]
    }
   ],
   "source": [
    "print(what)\n",
    "print(ahat)\n",
    "print(bhat)"
   ]
  },
  {
   "cell_type": "code",
   "execution_count": 119,
   "metadata": {},
   "outputs": [],
   "source": [
    "IBM_GARCH_LogLik = 2983.448"
   ]
  },
  {
   "cell_type": "markdown",
   "metadata": {},
   "source": [
    "__IBM GJR-GARCH__"
   ]
  },
  {
   "cell_type": "code",
   "execution_count": 122,
   "metadata": {},
   "outputs": [],
   "source": [
    "spec2 <- ugarchspec(variance.model=list(model = \"gjrGARCH\", garchOrder=c(1,1,1)), mean.model=list(armaOrder=c(0,0), include.mean=F))\n",
    "fit2 <- ugarchfit(data=ret, spec=spec2, solver=\"hybrid\")\n",
    "\n",
    "vals <- coef(fit2)\n",
    "what <- coef(fit2)[1]\n",
    "ahat <- coef(fit2)[2]\n",
    "bhat <- coef(fit2)[3]\n",
    "ghat <- coef(fit2)[4]"
   ]
  },
  {
   "cell_type": "code",
   "execution_count": 124,
   "metadata": {},
   "outputs": [
    {
     "name": "stdout",
     "output_type": "stream",
     "text": [
      "      omega \n",
      "1.66535e-06 \n",
      "     alpha1 \n",
      "0.005284374 \n",
      "    beta1 \n",
      "0.9582324 \n",
      "    gamma1 \n",
      "0.07096481 \n"
     ]
    }
   ],
   "source": [
    "print(what)\n",
    "print(ahat)\n",
    "print(bhat)\n",
    "print(ghat)"
   ]
  },
  {
   "cell_type": "code",
   "execution_count": 98,
   "metadata": {},
   "outputs": [],
   "source": [
    "IBM_GJR_LogLik = 2998.049"
   ]
  },
  {
   "cell_type": "code",
   "execution_count": 99,
   "metadata": {},
   "outputs": [
    {
     "data": {
      "text/html": [
       "1.00489400183948"
      ],
      "text/latex": [
       "1.00489400183948"
      ],
      "text/markdown": [
       "1.00489400183948"
      ],
      "text/plain": [
       "[1] 1.004894"
      ]
     },
     "metadata": {},
     "output_type": "display_data"
    }
   ],
   "source": [
    "IBM_GJR_LogLik/IBM_GARCH_LogLik"
   ]
  },
  {
   "cell_type": "code",
   "execution_count": 32,
   "metadata": {},
   "outputs": [],
   "source": [
    "# Not always feasible to use MLE, but as long as we can simulate (we can), then we can use a Bayesian predictive density"
   ]
  },
  {
   "cell_type": "code",
   "execution_count": null,
   "metadata": {},
   "outputs": [],
   "source": []
  }
 ],
 "metadata": {
  "kernelspec": {
   "display_name": "R",
   "language": "R",
   "name": "ir"
  },
  "language_info": {
   "codemirror_mode": "r",
   "file_extension": ".r",
   "mimetype": "text/x-r-source",
   "name": "R",
   "pygments_lexer": "r",
   "version": "3.5.3"
  }
 },
 "nbformat": 4,
 "nbformat_minor": 2
}
